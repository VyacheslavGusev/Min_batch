{
 "cells": [
  {
   "cell_type": "code",
   "execution_count": 193,
   "metadata": {},
   "outputs": [],
   "source": [
    "import pandas as pd\n",
    "import xlwings as xw\n",
    "import matplotlib.pyplot as plt \n",
    "import seaborn as sns"
   ]
  },
  {
   "cell_type": "code",
   "execution_count": 194,
   "metadata": {},
   "outputs": [],
   "source": [
    "# Открываем книги с данными\n",
    "wb1 = xw.Book('D:/MinBatch/2022.xlsx')\n",
    "wb2 = xw.Book('D:/MinBatch/2023.xlsx')\n",
    "wb3 = xw.Book('D:/MinBatch/MinBatch.xlsx')"
   ]
  },
  {
   "cell_type": "code",
   "execution_count": 195,
   "metadata": {},
   "outputs": [],
   "source": [
    "# Читаем книги\n",
    "data_2022 = wb1.sheets['Лист1']\n",
    "data_2023 = wb2.sheets['Лист1']\n",
    "data_mb = wb3.sheets['Лист1']"
   ]
  },
  {
   "cell_type": "markdown",
   "metadata": {},
   "source": [
    "Создаем Pandas фреймы, продажи за 3 месяца, включая исследуемый 22 год, 23 года, маску артикулов, отобранных для минимальной партии. Приводим данные к единообразию по типу. Артикул задаем как целое число"
   ]
  },
  {
   "cell_type": "code",
   "execution_count": 196,
   "metadata": {},
   "outputs": [
    {
     "data": {
      "text/html": [
       "<div>\n",
       "<style scoped>\n",
       "    .dataframe tbody tr th:only-of-type {\n",
       "        vertical-align: middle;\n",
       "    }\n",
       "\n",
       "    .dataframe tbody tr th {\n",
       "        vertical-align: top;\n",
       "    }\n",
       "\n",
       "    .dataframe thead th {\n",
       "        text-align: right;\n",
       "    }\n",
       "</style>\n",
       "<table border=\"1\" class=\"dataframe\">\n",
       "  <thead>\n",
       "    <tr style=\"text-align: right;\">\n",
       "      <th></th>\n",
       "      <th>Дата</th>\n",
       "      <th>Номер_документа</th>\n",
       "      <th>Код_клиента</th>\n",
       "      <th>Артикул</th>\n",
       "      <th>Кол-во</th>\n",
       "      <th>ТО, руб.</th>\n",
       "      <th>ВД, руб.</th>\n",
       "      <th>КТН</th>\n",
       "      <th>АКБ</th>\n",
       "    </tr>\n",
       "  </thead>\n",
       "  <tbody>\n",
       "    <tr>\n",
       "      <th>0</th>\n",
       "      <td>2022-08-01</td>\n",
       "      <td>1508125.0</td>\n",
       "      <td>2447820</td>\n",
       "      <td>465057</td>\n",
       "      <td>3.0</td>\n",
       "      <td>1181.07</td>\n",
       "      <td>200.08</td>\n",
       "      <td>1.203957</td>\n",
       "      <td>1.0</td>\n",
       "    </tr>\n",
       "    <tr>\n",
       "      <th>1</th>\n",
       "      <td>2022-08-01</td>\n",
       "      <td>1508156.0</td>\n",
       "      <td>2016843</td>\n",
       "      <td>1386333</td>\n",
       "      <td>10.0</td>\n",
       "      <td>3174.71</td>\n",
       "      <td>529.17</td>\n",
       "      <td>1.200023</td>\n",
       "      <td>1.0</td>\n",
       "    </tr>\n",
       "    <tr>\n",
       "      <th>2</th>\n",
       "      <td>2022-08-01</td>\n",
       "      <td>1508214.0</td>\n",
       "      <td>2829856</td>\n",
       "      <td>1008640</td>\n",
       "      <td>5.0</td>\n",
       "      <td>4795.02</td>\n",
       "      <td>800.04</td>\n",
       "      <td>1.200261</td>\n",
       "      <td>1.0</td>\n",
       "    </tr>\n",
       "    <tr>\n",
       "      <th>3</th>\n",
       "      <td>2022-08-01</td>\n",
       "      <td>1508331.0</td>\n",
       "      <td>872552</td>\n",
       "      <td>879389</td>\n",
       "      <td>1.0</td>\n",
       "      <td>416.24</td>\n",
       "      <td>69.37</td>\n",
       "      <td>1.199988</td>\n",
       "      <td>1.0</td>\n",
       "    </tr>\n",
       "    <tr>\n",
       "      <th>4</th>\n",
       "      <td>2022-08-01</td>\n",
       "      <td>1508348.0</td>\n",
       "      <td>2401895</td>\n",
       "      <td>731107</td>\n",
       "      <td>2.0</td>\n",
       "      <td>1523.23</td>\n",
       "      <td>149.14</td>\n",
       "      <td>1.108537</td>\n",
       "      <td>1.0</td>\n",
       "    </tr>\n",
       "  </tbody>\n",
       "</table>\n",
       "</div>"
      ],
      "text/plain": [
       "        Дата Номер_документа Код_клиента  Артикул  Кол-во  ТО, руб.  ВД, руб.  \\\n",
       "0 2022-08-01       1508125.0     2447820   465057     3.0   1181.07    200.08   \n",
       "1 2022-08-01       1508156.0     2016843  1386333    10.0   3174.71    529.17   \n",
       "2 2022-08-01       1508214.0     2829856  1008640     5.0   4795.02    800.04   \n",
       "3 2022-08-01       1508331.0      872552   879389     1.0    416.24     69.37   \n",
       "4 2022-08-01       1508348.0     2401895   731107     2.0   1523.23    149.14   \n",
       "\n",
       "        КТН  АКБ  \n",
       "0  1.203957  1.0  \n",
       "1  1.200023  1.0  \n",
       "2  1.200261  1.0  \n",
       "3  1.199988  1.0  \n",
       "4  1.108537  1.0  "
      ]
     },
     "execution_count": 196,
     "metadata": {},
     "output_type": "execute_result"
    }
   ],
   "source": [
    "df_22 = data_2022.range('A1:I219739').options(pd.DataFrame, header = 1, index = False).value\n",
    "df_22.head()"
   ]
  },
  {
   "cell_type": "code",
   "execution_count": 197,
   "metadata": {},
   "outputs": [],
   "source": [
    "df_22['Артикул'] = pd.to_numeric(df_22['Артикул'])"
   ]
  },
  {
   "cell_type": "code",
   "execution_count": 198,
   "metadata": {},
   "outputs": [
    {
     "name": "stdout",
     "output_type": "stream",
     "text": [
      "<class 'pandas.core.frame.DataFrame'>\n",
      "RangeIndex: 219738 entries, 0 to 219737\n",
      "Data columns (total 9 columns):\n",
      " #   Column           Non-Null Count   Dtype         \n",
      "---  ------           --------------   -----         \n",
      " 0   Дата             219738 non-null  datetime64[ns]\n",
      " 1   Номер_документа  219738 non-null  object        \n",
      " 2   Код_клиента      219738 non-null  object        \n",
      " 3   Артикул          219738 non-null  int64         \n",
      " 4   Кол-во           219738 non-null  float64       \n",
      " 5   ТО, руб.         219738 non-null  float64       \n",
      " 6   ВД, руб.         219738 non-null  float64       \n",
      " 7   КТН              219738 non-null  float64       \n",
      " 8   АКБ              219738 non-null  float64       \n",
      "dtypes: datetime64[ns](1), float64(5), int64(1), object(2)\n",
      "memory usage: 15.1+ MB\n"
     ]
    }
   ],
   "source": [
    "df_22.info()"
   ]
  },
  {
   "cell_type": "code",
   "execution_count": 199,
   "metadata": {},
   "outputs": [
    {
     "data": {
      "text/html": [
       "<div>\n",
       "<style scoped>\n",
       "    .dataframe tbody tr th:only-of-type {\n",
       "        vertical-align: middle;\n",
       "    }\n",
       "\n",
       "    .dataframe tbody tr th {\n",
       "        vertical-align: top;\n",
       "    }\n",
       "\n",
       "    .dataframe thead th {\n",
       "        text-align: right;\n",
       "    }\n",
       "</style>\n",
       "<table border=\"1\" class=\"dataframe\">\n",
       "  <thead>\n",
       "    <tr style=\"text-align: right;\">\n",
       "      <th></th>\n",
       "      <th>Дата</th>\n",
       "      <th>Номер_документа</th>\n",
       "      <th>Код_клиента</th>\n",
       "      <th>Артикул</th>\n",
       "      <th>Кол-во</th>\n",
       "      <th>ТО, руб.</th>\n",
       "      <th>ВД, руб.</th>\n",
       "      <th>КТН</th>\n",
       "      <th>АКБ</th>\n",
       "    </tr>\n",
       "  </thead>\n",
       "  <tbody>\n",
       "    <tr>\n",
       "      <th>0</th>\n",
       "      <td>2023-08-01</td>\n",
       "      <td>104590</td>\n",
       "      <td>2240637</td>\n",
       "      <td>1337441</td>\n",
       "      <td>-1.0</td>\n",
       "      <td>-4500.0</td>\n",
       "      <td>-1199.93</td>\n",
       "      <td>1.363607</td>\n",
       "      <td>1.0</td>\n",
       "    </tr>\n",
       "    <tr>\n",
       "      <th>1</th>\n",
       "      <td>2023-08-01</td>\n",
       "      <td>104604</td>\n",
       "      <td>3093185</td>\n",
       "      <td>1768656</td>\n",
       "      <td>-1.0</td>\n",
       "      <td>-325.0</td>\n",
       "      <td>-93.00</td>\n",
       "      <td>1.400862</td>\n",
       "      <td>1.0</td>\n",
       "    </tr>\n",
       "    <tr>\n",
       "      <th>2</th>\n",
       "      <td>2023-08-01</td>\n",
       "      <td>1046722</td>\n",
       "      <td>3190546</td>\n",
       "      <td>961020</td>\n",
       "      <td>1.0</td>\n",
       "      <td>1075.0</td>\n",
       "      <td>222.69</td>\n",
       "      <td>1.261278</td>\n",
       "      <td>1.0</td>\n",
       "    </tr>\n",
       "    <tr>\n",
       "      <th>3</th>\n",
       "      <td>2023-08-01</td>\n",
       "      <td>1046772</td>\n",
       "      <td>2725497</td>\n",
       "      <td>1659596</td>\n",
       "      <td>2.0</td>\n",
       "      <td>42.0</td>\n",
       "      <td>12.00</td>\n",
       "      <td>1.400000</td>\n",
       "      <td>1.0</td>\n",
       "    </tr>\n",
       "    <tr>\n",
       "      <th>4</th>\n",
       "      <td>2023-08-01</td>\n",
       "      <td>1046863</td>\n",
       "      <td>2253592</td>\n",
       "      <td>1306208</td>\n",
       "      <td>1.0</td>\n",
       "      <td>8692.0</td>\n",
       "      <td>439.00</td>\n",
       "      <td>1.053193</td>\n",
       "      <td>1.0</td>\n",
       "    </tr>\n",
       "  </tbody>\n",
       "</table>\n",
       "</div>"
      ],
      "text/plain": [
       "        Дата Номер_документа Код_клиента  Артикул  Кол-во  ТО, руб.  ВД, руб.  \\\n",
       "0 2023-08-01          104590     2240637  1337441    -1.0   -4500.0  -1199.93   \n",
       "1 2023-08-01          104604     3093185  1768656    -1.0    -325.0    -93.00   \n",
       "2 2023-08-01         1046722     3190546   961020     1.0    1075.0    222.69   \n",
       "3 2023-08-01         1046772     2725497  1659596     2.0      42.0     12.00   \n",
       "4 2023-08-01         1046863     2253592  1306208     1.0    8692.0    439.00   \n",
       "\n",
       "        КТН  АКБ  \n",
       "0  1.363607  1.0  \n",
       "1  1.400862  1.0  \n",
       "2  1.261278  1.0  \n",
       "3  1.400000  1.0  \n",
       "4  1.053193  1.0  "
      ]
     },
     "execution_count": 199,
     "metadata": {},
     "output_type": "execute_result"
    }
   ],
   "source": [
    "df_23 = data_2023.range('A1:I291263').options(pd.DataFrame, header = 1, index = False).value\n",
    "df_23.head()"
   ]
  },
  {
   "cell_type": "code",
   "execution_count": 200,
   "metadata": {},
   "outputs": [],
   "source": [
    "df_23['Артикул'] = pd.to_numeric(df_23['Артикул'])"
   ]
  },
  {
   "cell_type": "code",
   "execution_count": 201,
   "metadata": {},
   "outputs": [
    {
     "name": "stdout",
     "output_type": "stream",
     "text": [
      "<class 'pandas.core.frame.DataFrame'>\n",
      "RangeIndex: 291262 entries, 0 to 291261\n",
      "Data columns (total 9 columns):\n",
      " #   Column           Non-Null Count   Dtype         \n",
      "---  ------           --------------   -----         \n",
      " 0   Дата             291262 non-null  datetime64[ns]\n",
      " 1   Номер_документа  291262 non-null  object        \n",
      " 2   Код_клиента      291262 non-null  object        \n",
      " 3   Артикул          291262 non-null  int64         \n",
      " 4   Кол-во           291262 non-null  float64       \n",
      " 5   ТО, руб.         291262 non-null  float64       \n",
      " 6   ВД, руб.         291262 non-null  float64       \n",
      " 7   КТН              291262 non-null  float64       \n",
      " 8   АКБ              291262 non-null  float64       \n",
      "dtypes: datetime64[ns](1), float64(5), int64(1), object(2)\n",
      "memory usage: 20.0+ MB\n"
     ]
    }
   ],
   "source": [
    "df_23.info()"
   ]
  },
  {
   "cell_type": "code",
   "execution_count": 202,
   "metadata": {},
   "outputs": [
    {
     "data": {
      "text/html": [
       "<div>\n",
       "<style scoped>\n",
       "    .dataframe tbody tr th:only-of-type {\n",
       "        vertical-align: middle;\n",
       "    }\n",
       "\n",
       "    .dataframe tbody tr th {\n",
       "        vertical-align: top;\n",
       "    }\n",
       "\n",
       "    .dataframe thead th {\n",
       "        text-align: right;\n",
       "    }\n",
       "</style>\n",
       "<table border=\"1\" class=\"dataframe\">\n",
       "  <thead>\n",
       "    <tr style=\"text-align: right;\">\n",
       "      <th></th>\n",
       "      <th>Артикул</th>\n",
       "      <th>Наименование</th>\n",
       "      <th>Финал Эксп. МП</th>\n",
       "      <th>ТК</th>\n",
       "      <th>АГ</th>\n",
       "    </tr>\n",
       "  </thead>\n",
       "  <tbody>\n",
       "    <tr>\n",
       "      <th>0</th>\n",
       "      <td>15639.0</td>\n",
       "      <td>Лента тепл.регист. для ЭКГ SCHILLER АT-10 210х...</td>\n",
       "      <td>7.0</td>\n",
       "      <td>Бумага регистрирующая для мед. приборов</td>\n",
       "      <td>Бумага для импортных и отечественных ЭКГ</td>\n",
       "    </tr>\n",
       "    <tr>\n",
       "      <th>1</th>\n",
       "      <td>16335.0</td>\n",
       "      <td>Гель для ЭКГ УНИАГЕЛЬ 250г/бут.</td>\n",
       "      <td>2.0</td>\n",
       "      <td>Расходные материалы для диагностики</td>\n",
       "      <td>Контактные среды для исследований</td>\n",
       "    </tr>\n",
       "    <tr>\n",
       "      <th>2</th>\n",
       "      <td>29024.0</td>\n",
       "      <td>Лента тепл.регист. для ЭКГ NIHON KOHDEN 110х14...</td>\n",
       "      <td>6.0</td>\n",
       "      <td>Бумага регистрирующая для мед. приборов</td>\n",
       "      <td>Бумага для импортных и отечественных ЭКГ</td>\n",
       "    </tr>\n",
       "    <tr>\n",
       "      <th>3</th>\n",
       "      <td>46018.0</td>\n",
       "      <td>Гель для ЭКГ Жидкость электродная контактная с...</td>\n",
       "      <td>2.0</td>\n",
       "      <td>Расходные материалы для диагностики</td>\n",
       "      <td>Контактные среды для исследований</td>\n",
       "    </tr>\n",
       "    <tr>\n",
       "      <th>4</th>\n",
       "      <td>61043.0</td>\n",
       "      <td>Гель для ЭКГ УНИМАКС 250г/бут.</td>\n",
       "      <td>2.0</td>\n",
       "      <td>Расходные материалы для диагностики</td>\n",
       "      <td>Контактные среды для исследований</td>\n",
       "    </tr>\n",
       "  </tbody>\n",
       "</table>\n",
       "</div>"
      ],
      "text/plain": [
       "   Артикул                                       Наименование  Финал Эксп. МП  \\\n",
       "0  15639.0  Лента тепл.регист. для ЭКГ SCHILLER АT-10 210х...             7.0   \n",
       "1  16335.0                    Гель для ЭКГ УНИАГЕЛЬ 250г/бут.             2.0   \n",
       "2  29024.0  Лента тепл.регист. для ЭКГ NIHON KOHDEN 110х14...             6.0   \n",
       "3  46018.0  Гель для ЭКГ Жидкость электродная контактная с...             2.0   \n",
       "4  61043.0                     Гель для ЭКГ УНИМАКС 250г/бут.             2.0   \n",
       "\n",
       "                                        ТК  \\\n",
       "0  Бумага регистрирующая для мед. приборов   \n",
       "1      Расходные материалы для диагностики   \n",
       "2  Бумага регистрирующая для мед. приборов   \n",
       "3      Расходные материалы для диагностики   \n",
       "4      Расходные материалы для диагностики   \n",
       "\n",
       "                                         АГ  \n",
       "0  Бумага для импортных и отечественных ЭКГ  \n",
       "1         Контактные среды для исследований  \n",
       "2  Бумага для импортных и отечественных ЭКГ  \n",
       "3         Контактные среды для исследований  \n",
       "4         Контактные среды для исследований  "
      ]
     },
     "execution_count": 202,
     "metadata": {},
     "output_type": "execute_result"
    }
   ],
   "source": [
    "df_mb = data_mb.range('A1:E349').options(pd.DataFrame, header = 1, index = False).value\n",
    "df_mb.head()"
   ]
  },
  {
   "cell_type": "code",
   "execution_count": 203,
   "metadata": {},
   "outputs": [],
   "source": [
    "df_mb = df_mb.astype({'Артикул': 'Int64'})"
   ]
  },
  {
   "cell_type": "code",
   "execution_count": 204,
   "metadata": {},
   "outputs": [
    {
     "name": "stdout",
     "output_type": "stream",
     "text": [
      "<class 'pandas.core.frame.DataFrame'>\n",
      "RangeIndex: 348 entries, 0 to 347\n",
      "Data columns (total 5 columns):\n",
      " #   Column          Non-Null Count  Dtype  \n",
      "---  ------          --------------  -----  \n",
      " 0   Артикул         348 non-null    Int64  \n",
      " 1   Наименование    348 non-null    object \n",
      " 2   Финал Эксп. МП  348 non-null    float64\n",
      " 3   ТК              348 non-null    object \n",
      " 4   АГ              348 non-null    object \n",
      "dtypes: Int64(1), float64(1), object(3)\n",
      "memory usage: 14.1+ KB\n"
     ]
    }
   ],
   "source": [
    "df_mb.info()"
   ]
  },
  {
   "cell_type": "markdown",
   "metadata": {},
   "source": [
    "Создаем выборку по продажам из артикулов, которые участвовали в расчете Минимальной партии. Формируем Датафреймы для 2022 и 2023 года"
   ]
  },
  {
   "cell_type": "code",
   "execution_count": 205,
   "metadata": {},
   "outputs": [
    {
     "data": {
      "text/html": [
       "<div>\n",
       "<style scoped>\n",
       "    .dataframe tbody tr th:only-of-type {\n",
       "        vertical-align: middle;\n",
       "    }\n",
       "\n",
       "    .dataframe tbody tr th {\n",
       "        vertical-align: top;\n",
       "    }\n",
       "\n",
       "    .dataframe thead th {\n",
       "        text-align: right;\n",
       "    }\n",
       "</style>\n",
       "<table border=\"1\" class=\"dataframe\">\n",
       "  <thead>\n",
       "    <tr style=\"text-align: right;\">\n",
       "      <th></th>\n",
       "      <th>Дата</th>\n",
       "      <th>Номер_документа</th>\n",
       "      <th>Код_клиента</th>\n",
       "      <th>Артикул</th>\n",
       "      <th>Кол-во</th>\n",
       "      <th>ТО, руб.</th>\n",
       "      <th>ВД, руб.</th>\n",
       "      <th>КТН</th>\n",
       "      <th>АКБ</th>\n",
       "      <th>Наименование</th>\n",
       "      <th>Финал Эксп. МП</th>\n",
       "      <th>ТК</th>\n",
       "      <th>АГ</th>\n",
       "    </tr>\n",
       "  </thead>\n",
       "  <tbody>\n",
       "    <tr>\n",
       "      <th>0</th>\n",
       "      <td>2022-08-01</td>\n",
       "      <td>1508375.0</td>\n",
       "      <td>3046902</td>\n",
       "      <td>1003292</td>\n",
       "      <td>20.0</td>\n",
       "      <td>195.58</td>\n",
       "      <td>9.20</td>\n",
       "      <td>1.049362</td>\n",
       "      <td>1.0</td>\n",
       "      <td>Перевяз. ср-ва Бинт эластичный трубчатый, разм...</td>\n",
       "      <td>10.0</td>\n",
       "      <td>Перевязочные средства</td>\n",
       "      <td>Бинты фиксирующие</td>\n",
       "    </tr>\n",
       "    <tr>\n",
       "      <th>1</th>\n",
       "      <td>2022-08-01</td>\n",
       "      <td>39677172</td>\n",
       "      <td>921727</td>\n",
       "      <td>1003292</td>\n",
       "      <td>5.0</td>\n",
       "      <td>48.51</td>\n",
       "      <td>1.91</td>\n",
       "      <td>1.040987</td>\n",
       "      <td>1.0</td>\n",
       "      <td>Перевяз. ср-ва Бинт эластичный трубчатый, разм...</td>\n",
       "      <td>10.0</td>\n",
       "      <td>Перевязочные средства</td>\n",
       "      <td>Бинты фиксирующие</td>\n",
       "    </tr>\n",
       "    <tr>\n",
       "      <th>2</th>\n",
       "      <td>2022-08-03</td>\n",
       "      <td>1509816</td>\n",
       "      <td>3046902</td>\n",
       "      <td>1003292</td>\n",
       "      <td>21.0</td>\n",
       "      <td>205.36</td>\n",
       "      <td>9.58</td>\n",
       "      <td>1.048932</td>\n",
       "      <td>1.0</td>\n",
       "      <td>Перевяз. ср-ва Бинт эластичный трубчатый, разм...</td>\n",
       "      <td>10.0</td>\n",
       "      <td>Перевязочные средства</td>\n",
       "      <td>Бинты фиксирующие</td>\n",
       "    </tr>\n",
       "  </tbody>\n",
       "</table>\n",
       "</div>"
      ],
      "text/plain": [
       "        Дата Номер_документа Код_клиента  Артикул  Кол-во  ТО, руб.  ВД, руб.  \\\n",
       "0 2022-08-01       1508375.0     3046902  1003292    20.0    195.58      9.20   \n",
       "1 2022-08-01        39677172      921727  1003292     5.0     48.51      1.91   \n",
       "2 2022-08-03         1509816     3046902  1003292    21.0    205.36      9.58   \n",
       "\n",
       "        КТН  АКБ                                       Наименование  \\\n",
       "0  1.049362  1.0  Перевяз. ср-ва Бинт эластичный трубчатый, разм...   \n",
       "1  1.040987  1.0  Перевяз. ср-ва Бинт эластичный трубчатый, разм...   \n",
       "2  1.048932  1.0  Перевяз. ср-ва Бинт эластичный трубчатый, разм...   \n",
       "\n",
       "   Финал Эксп. МП                     ТК                 АГ  \n",
       "0            10.0  Перевязочные средства  Бинты фиксирующие  \n",
       "1            10.0  Перевязочные средства  Бинты фиксирующие  \n",
       "2            10.0  Перевязочные средства  Бинты фиксирующие  "
      ]
     },
     "execution_count": 205,
     "metadata": {},
     "output_type": "execute_result"
    }
   ],
   "source": [
    "df_mb_22 = pd.merge(df_22, df_mb, on=['Артикул'], how='inner')\n",
    "df_mb_22.head(3)"
   ]
  },
  {
   "cell_type": "code",
   "execution_count": 206,
   "metadata": {},
   "outputs": [
    {
     "data": {
      "text/plain": [
       "(26128, 13)"
      ]
     },
     "execution_count": 206,
     "metadata": {},
     "output_type": "execute_result"
    }
   ],
   "source": [
    "df_mb_22.shape"
   ]
  },
  {
   "cell_type": "markdown",
   "metadata": {},
   "source": [
    "Удалим возвраты, в анализе минимальных партий они нам не нужны"
   ]
  },
  {
   "cell_type": "code",
   "execution_count": 207,
   "metadata": {},
   "outputs": [],
   "source": [
    "df_mb_22 = df_mb_22[(df_mb_22['Кол-во'] > 0)]"
   ]
  },
  {
   "cell_type": "code",
   "execution_count": 208,
   "metadata": {},
   "outputs": [
    {
     "data": {
      "text/html": [
       "<div>\n",
       "<style scoped>\n",
       "    .dataframe tbody tr th:only-of-type {\n",
       "        vertical-align: middle;\n",
       "    }\n",
       "\n",
       "    .dataframe tbody tr th {\n",
       "        vertical-align: top;\n",
       "    }\n",
       "\n",
       "    .dataframe thead th {\n",
       "        text-align: right;\n",
       "    }\n",
       "</style>\n",
       "<table border=\"1\" class=\"dataframe\">\n",
       "  <thead>\n",
       "    <tr style=\"text-align: right;\">\n",
       "      <th></th>\n",
       "      <th>Артикул</th>\n",
       "      <th>Кол-во</th>\n",
       "      <th>ТО, руб.</th>\n",
       "      <th>ВД, руб.</th>\n",
       "      <th>КТН</th>\n",
       "      <th>АКБ</th>\n",
       "      <th>Финал Эксп. МП</th>\n",
       "    </tr>\n",
       "  </thead>\n",
       "  <tbody>\n",
       "    <tr>\n",
       "      <th>count</th>\n",
       "      <td>2.522900e+04</td>\n",
       "      <td>25229.000000</td>\n",
       "      <td>25229.000000</td>\n",
       "      <td>25229.000000</td>\n",
       "      <td>25229.000000</td>\n",
       "      <td>25229.0</td>\n",
       "      <td>25229.000000</td>\n",
       "    </tr>\n",
       "    <tr>\n",
       "      <th>mean</th>\n",
       "      <td>8.001837e+05</td>\n",
       "      <td>25.723572</td>\n",
       "      <td>908.263166</td>\n",
       "      <td>289.759807</td>\n",
       "      <td>1.742715</td>\n",
       "      <td>1.0</td>\n",
       "      <td>6.046137</td>\n",
       "    </tr>\n",
       "    <tr>\n",
       "      <th>std</th>\n",
       "      <td>3.471267e+05</td>\n",
       "      <td>96.355363</td>\n",
       "      <td>2610.353557</td>\n",
       "      <td>970.428346</td>\n",
       "      <td>0.662860</td>\n",
       "      <td>0.0</td>\n",
       "      <td>6.103737</td>\n",
       "    </tr>\n",
       "    <tr>\n",
       "      <th>min</th>\n",
       "      <td>1.633500e+04</td>\n",
       "      <td>1.000000</td>\n",
       "      <td>1.360000</td>\n",
       "      <td>-71061.200000</td>\n",
       "      <td>0.115067</td>\n",
       "      <td>1.0</td>\n",
       "      <td>2.000000</td>\n",
       "    </tr>\n",
       "    <tr>\n",
       "      <th>25%</th>\n",
       "      <td>5.217240e+05</td>\n",
       "      <td>2.000000</td>\n",
       "      <td>96.000000</td>\n",
       "      <td>32.330000</td>\n",
       "      <td>1.320003</td>\n",
       "      <td>1.0</td>\n",
       "      <td>3.000000</td>\n",
       "    </tr>\n",
       "    <tr>\n",
       "      <th>50%</th>\n",
       "      <td>7.725480e+05</td>\n",
       "      <td>6.000000</td>\n",
       "      <td>270.000000</td>\n",
       "      <td>88.450000</td>\n",
       "      <td>1.561130</td>\n",
       "      <td>1.0</td>\n",
       "      <td>5.000000</td>\n",
       "    </tr>\n",
       "    <tr>\n",
       "      <th>75%</th>\n",
       "      <td>9.956380e+05</td>\n",
       "      <td>20.000000</td>\n",
       "      <td>790.790000</td>\n",
       "      <td>252.060000</td>\n",
       "      <td>1.960513</td>\n",
       "      <td>1.0</td>\n",
       "      <td>5.000000</td>\n",
       "    </tr>\n",
       "    <tr>\n",
       "      <th>max</th>\n",
       "      <td>1.669949e+06</td>\n",
       "      <td>7000.000000</td>\n",
       "      <td>129880.000000</td>\n",
       "      <td>30722.700000</td>\n",
       "      <td>5.005409</td>\n",
       "      <td>1.0</td>\n",
       "      <td>100.000000</td>\n",
       "    </tr>\n",
       "  </tbody>\n",
       "</table>\n",
       "</div>"
      ],
      "text/plain": [
       "            Артикул        Кол-во       ТО, руб.      ВД, руб.           КТН  \\\n",
       "count  2.522900e+04  25229.000000   25229.000000  25229.000000  25229.000000   \n",
       "mean   8.001837e+05     25.723572     908.263166    289.759807      1.742715   \n",
       "std    3.471267e+05     96.355363    2610.353557    970.428346      0.662860   \n",
       "min    1.633500e+04      1.000000       1.360000 -71061.200000      0.115067   \n",
       "25%    5.217240e+05      2.000000      96.000000     32.330000      1.320003   \n",
       "50%    7.725480e+05      6.000000     270.000000     88.450000      1.561130   \n",
       "75%    9.956380e+05     20.000000     790.790000    252.060000      1.960513   \n",
       "max    1.669949e+06   7000.000000  129880.000000  30722.700000      5.005409   \n",
       "\n",
       "           АКБ  Финал Эксп. МП  \n",
       "count  25229.0    25229.000000  \n",
       "mean       1.0        6.046137  \n",
       "std        0.0        6.103737  \n",
       "min        1.0        2.000000  \n",
       "25%        1.0        3.000000  \n",
       "50%        1.0        5.000000  \n",
       "75%        1.0        5.000000  \n",
       "max        1.0      100.000000  "
      ]
     },
     "execution_count": 208,
     "metadata": {},
     "output_type": "execute_result"
    }
   ],
   "source": [
    "df_mb_22.describe()"
   ]
  },
  {
   "cell_type": "code",
   "execution_count": 209,
   "metadata": {},
   "outputs": [
    {
     "data": {
      "text/html": [
       "<div>\n",
       "<style scoped>\n",
       "    .dataframe tbody tr th:only-of-type {\n",
       "        vertical-align: middle;\n",
       "    }\n",
       "\n",
       "    .dataframe tbody tr th {\n",
       "        vertical-align: top;\n",
       "    }\n",
       "\n",
       "    .dataframe thead th {\n",
       "        text-align: right;\n",
       "    }\n",
       "</style>\n",
       "<table border=\"1\" class=\"dataframe\">\n",
       "  <thead>\n",
       "    <tr style=\"text-align: right;\">\n",
       "      <th></th>\n",
       "      <th>Дата</th>\n",
       "      <th>Номер_документа</th>\n",
       "      <th>Код_клиента</th>\n",
       "      <th>Артикул</th>\n",
       "      <th>Кол-во</th>\n",
       "      <th>ТО, руб.</th>\n",
       "      <th>ВД, руб.</th>\n",
       "      <th>КТН</th>\n",
       "      <th>АКБ</th>\n",
       "      <th>Наименование</th>\n",
       "      <th>Финал Эксп. МП</th>\n",
       "      <th>ТК</th>\n",
       "      <th>АГ</th>\n",
       "    </tr>\n",
       "  </thead>\n",
       "  <tbody>\n",
       "    <tr>\n",
       "      <th>0</th>\n",
       "      <td>2023-08-01</td>\n",
       "      <td>16393008</td>\n",
       "      <td>72006</td>\n",
       "      <td>850682</td>\n",
       "      <td>2.0</td>\n",
       "      <td>324.0</td>\n",
       "      <td>83.99</td>\n",
       "      <td>1.349944</td>\n",
       "      <td>1.0</td>\n",
       "      <td>Антисептик кожный Альтсепт 200 мл, спрей</td>\n",
       "      <td>2.0</td>\n",
       "      <td>Дезинфицирующие средства</td>\n",
       "      <td>Антисептики кожные</td>\n",
       "    </tr>\n",
       "    <tr>\n",
       "      <th>1</th>\n",
       "      <td>2023-08-01</td>\n",
       "      <td>16394044</td>\n",
       "      <td>102018</td>\n",
       "      <td>850682</td>\n",
       "      <td>2.0</td>\n",
       "      <td>264.0</td>\n",
       "      <td>23.99</td>\n",
       "      <td>1.099954</td>\n",
       "      <td>1.0</td>\n",
       "      <td>Антисептик кожный Альтсепт 200 мл, спрей</td>\n",
       "      <td>2.0</td>\n",
       "      <td>Дезинфицирующие средства</td>\n",
       "      <td>Антисептики кожные</td>\n",
       "    </tr>\n",
       "    <tr>\n",
       "      <th>2</th>\n",
       "      <td>2023-08-01</td>\n",
       "      <td>45413960</td>\n",
       "      <td>2626543</td>\n",
       "      <td>850682</td>\n",
       "      <td>2.0</td>\n",
       "      <td>324.0</td>\n",
       "      <td>83.99</td>\n",
       "      <td>1.349944</td>\n",
       "      <td>1.0</td>\n",
       "      <td>Антисептик кожный Альтсепт 200 мл, спрей</td>\n",
       "      <td>2.0</td>\n",
       "      <td>Дезинфицирующие средства</td>\n",
       "      <td>Антисептики кожные</td>\n",
       "    </tr>\n",
       "  </tbody>\n",
       "</table>\n",
       "</div>"
      ],
      "text/plain": [
       "        Дата Номер_документа Код_клиента  Артикул  Кол-во  ТО, руб.  ВД, руб.  \\\n",
       "0 2023-08-01        16393008       72006   850682     2.0     324.0     83.99   \n",
       "1 2023-08-01        16394044      102018   850682     2.0     264.0     23.99   \n",
       "2 2023-08-01        45413960     2626543   850682     2.0     324.0     83.99   \n",
       "\n",
       "        КТН  АКБ                              Наименование  Финал Эксп. МП  \\\n",
       "0  1.349944  1.0  Антисептик кожный Альтсепт 200 мл, спрей             2.0   \n",
       "1  1.099954  1.0  Антисептик кожный Альтсепт 200 мл, спрей             2.0   \n",
       "2  1.349944  1.0  Антисептик кожный Альтсепт 200 мл, спрей             2.0   \n",
       "\n",
       "                         ТК                  АГ  \n",
       "0  Дезинфицирующие средства  Антисептики кожные  \n",
       "1  Дезинфицирующие средства  Антисептики кожные  \n",
       "2  Дезинфицирующие средства  Антисептики кожные  "
      ]
     },
     "execution_count": 209,
     "metadata": {},
     "output_type": "execute_result"
    }
   ],
   "source": [
    "df_mb_23 = pd.merge(df_23, df_mb, on=['Артикул'], how='inner')\n",
    "df_mb_23.head(3)"
   ]
  },
  {
   "cell_type": "code",
   "execution_count": 210,
   "metadata": {},
   "outputs": [
    {
     "data": {
      "text/plain": [
       "(30859, 13)"
      ]
     },
     "execution_count": 210,
     "metadata": {},
     "output_type": "execute_result"
    }
   ],
   "source": [
    "df_mb_23.shape"
   ]
  },
  {
   "cell_type": "code",
   "execution_count": 211,
   "metadata": {},
   "outputs": [],
   "source": [
    "# Удаляем возвраты\n",
    "df_mb_23 = df_mb_23[(df_mb_23['Кол-во'] > 0)]"
   ]
  },
  {
   "cell_type": "code",
   "execution_count": 212,
   "metadata": {},
   "outputs": [
    {
     "data": {
      "text/html": [
       "<div>\n",
       "<style scoped>\n",
       "    .dataframe tbody tr th:only-of-type {\n",
       "        vertical-align: middle;\n",
       "    }\n",
       "\n",
       "    .dataframe tbody tr th {\n",
       "        vertical-align: top;\n",
       "    }\n",
       "\n",
       "    .dataframe thead th {\n",
       "        text-align: right;\n",
       "    }\n",
       "</style>\n",
       "<table border=\"1\" class=\"dataframe\">\n",
       "  <thead>\n",
       "    <tr style=\"text-align: right;\">\n",
       "      <th></th>\n",
       "      <th>Артикул</th>\n",
       "      <th>Кол-во</th>\n",
       "      <th>ТО, руб.</th>\n",
       "      <th>ВД, руб.</th>\n",
       "      <th>КТН</th>\n",
       "      <th>АКБ</th>\n",
       "      <th>Финал Эксп. МП</th>\n",
       "    </tr>\n",
       "  </thead>\n",
       "  <tbody>\n",
       "    <tr>\n",
       "      <th>count</th>\n",
       "      <td>2.950100e+04</td>\n",
       "      <td>29501.000000</td>\n",
       "      <td>29501.000000</td>\n",
       "      <td>29501.000000</td>\n",
       "      <td>29501.000000</td>\n",
       "      <td>29501.0</td>\n",
       "      <td>29501.000000</td>\n",
       "    </tr>\n",
       "    <tr>\n",
       "      <th>mean</th>\n",
       "      <td>8.509470e+05</td>\n",
       "      <td>25.629674</td>\n",
       "      <td>910.499255</td>\n",
       "      <td>331.982251</td>\n",
       "      <td>1.797019</td>\n",
       "      <td>1.0</td>\n",
       "      <td>5.564015</td>\n",
       "    </tr>\n",
       "    <tr>\n",
       "      <th>std</th>\n",
       "      <td>3.831607e+05</td>\n",
       "      <td>102.040069</td>\n",
       "      <td>3061.658860</td>\n",
       "      <td>1028.700302</td>\n",
       "      <td>0.475013</td>\n",
       "      <td>0.0</td>\n",
       "      <td>5.812594</td>\n",
       "    </tr>\n",
       "    <tr>\n",
       "      <th>min</th>\n",
       "      <td>1.563900e+04</td>\n",
       "      <td>1.000000</td>\n",
       "      <td>1.580000</td>\n",
       "      <td>-1234.660000</td>\n",
       "      <td>0.794260</td>\n",
       "      <td>1.0</td>\n",
       "      <td>2.000000</td>\n",
       "    </tr>\n",
       "    <tr>\n",
       "      <th>25%</th>\n",
       "      <td>5.217240e+05</td>\n",
       "      <td>2.000000</td>\n",
       "      <td>97.200000</td>\n",
       "      <td>37.510000</td>\n",
       "      <td>1.400058</td>\n",
       "      <td>1.0</td>\n",
       "      <td>2.000000</td>\n",
       "    </tr>\n",
       "    <tr>\n",
       "      <th>50%</th>\n",
       "      <td>8.324910e+05</td>\n",
       "      <td>6.000000</td>\n",
       "      <td>256.080000</td>\n",
       "      <td>100.690000</td>\n",
       "      <td>1.680791</td>\n",
       "      <td>1.0</td>\n",
       "      <td>5.000000</td>\n",
       "    </tr>\n",
       "    <tr>\n",
       "      <th>75%</th>\n",
       "      <td>9.971730e+05</td>\n",
       "      <td>20.000000</td>\n",
       "      <td>736.000000</td>\n",
       "      <td>272.350000</td>\n",
       "      <td>2.118921</td>\n",
       "      <td>1.0</td>\n",
       "      <td>5.000000</td>\n",
       "    </tr>\n",
       "    <tr>\n",
       "      <th>max</th>\n",
       "      <td>1.674213e+06</td>\n",
       "      <td>6000.000000</td>\n",
       "      <td>204885.730000</td>\n",
       "      <td>61418.160000</td>\n",
       "      <td>10.247917</td>\n",
       "      <td>1.0</td>\n",
       "      <td>100.000000</td>\n",
       "    </tr>\n",
       "  </tbody>\n",
       "</table>\n",
       "</div>"
      ],
      "text/plain": [
       "            Артикул        Кол-во       ТО, руб.      ВД, руб.           КТН  \\\n",
       "count  2.950100e+04  29501.000000   29501.000000  29501.000000  29501.000000   \n",
       "mean   8.509470e+05     25.629674     910.499255    331.982251      1.797019   \n",
       "std    3.831607e+05    102.040069    3061.658860   1028.700302      0.475013   \n",
       "min    1.563900e+04      1.000000       1.580000  -1234.660000      0.794260   \n",
       "25%    5.217240e+05      2.000000      97.200000     37.510000      1.400058   \n",
       "50%    8.324910e+05      6.000000     256.080000    100.690000      1.680791   \n",
       "75%    9.971730e+05     20.000000     736.000000    272.350000      2.118921   \n",
       "max    1.674213e+06   6000.000000  204885.730000  61418.160000     10.247917   \n",
       "\n",
       "           АКБ  Финал Эксп. МП  \n",
       "count  29501.0    29501.000000  \n",
       "mean       1.0        5.564015  \n",
       "std        0.0        5.812594  \n",
       "min        1.0        2.000000  \n",
       "25%        1.0        2.000000  \n",
       "50%        1.0        5.000000  \n",
       "75%        1.0        5.000000  \n",
       "max        1.0      100.000000  "
      ]
     },
     "execution_count": 212,
     "metadata": {},
     "output_type": "execute_result"
    }
   ],
   "source": [
    "df_mb_23.describe()"
   ]
  },
  {
   "cell_type": "markdown",
   "metadata": {},
   "source": [
    "Проведем анализ на выбросы, примем решение о наличии их в датасете для исследования минимальной партии. "
   ]
  },
  {
   "cell_type": "code",
   "execution_count": 213,
   "metadata": {},
   "outputs": [
    {
     "name": "stderr",
     "output_type": "stream",
     "text": [
      "c:\\Users\\lokky\\anaconda3\\lib\\site-packages\\seaborn\\_decorators.py:36: FutureWarning: Pass the following variable as a keyword arg: x. From version 0.12, the only valid positional argument will be `data`, and passing other arguments without an explicit keyword will result in an error or misinterpretation.\n",
      "  warnings.warn(\n"
     ]
    },
    {
     "data": {
      "image/png": "[encoded data removed]",
      "text/plain": [
       "<Figure size 640x480 with 1 Axes>"
      ]
     },
     "metadata": {},
     "output_type": "display_data"
    }
   ],
   "source": [
    "sns.boxplot(df_mb_22['Кол-во'])\n",
    "plt.title('Распределение количества 22 г');"
   ]
  },
  {
   "cell_type": "code",
   "execution_count": 214,
   "metadata": {},
   "outputs": [
    {
     "data": {
      "text/plain": [
       "959"
      ]
     },
     "execution_count": 214,
     "metadata": {},
     "output_type": "execute_result"
    }
   ],
   "source": [
    "len(df_mb_22[(df_mb_22['Кол-во'] > 100)])"
   ]
  },
  {
   "cell_type": "code",
   "execution_count": 215,
   "metadata": {},
   "outputs": [
    {
     "name": "stderr",
     "output_type": "stream",
     "text": [
      "c:\\Users\\lokky\\anaconda3\\lib\\site-packages\\seaborn\\_decorators.py:36: FutureWarning: Pass the following variable as a keyword arg: x. From version 0.12, the only valid positional argument will be `data`, and passing other arguments without an explicit keyword will result in an error or misinterpretation.\n",
      "  warnings.warn(\n"
     ]
    },
    {
     "data": {
      "image/png": "[encoded data removed]",
      "text/plain": [
       "<Figure size 640x480 with 1 Axes>"
      ]
     },
     "metadata": {},
     "output_type": "display_data"
    }
   ],
   "source": [
    "sns.boxplot(df_mb_23['Кол-во'])\n",
    "plt.title('Распределение количества 23 г');"
   ]
  },
  {
   "cell_type": "code",
   "execution_count": 216,
   "metadata": {},
   "outputs": [
    {
     "data": {
      "text/plain": [
       "1010"
      ]
     },
     "execution_count": 216,
     "metadata": {},
     "output_type": "execute_result"
    }
   ],
   "source": [
    "len(df_mb_23[(df_mb_23['Кол-во'] > 100)])"
   ]
  },
  {
   "cell_type": "markdown",
   "metadata": {},
   "source": [
    "Количество выбросов в сравнении LFL сопоставимое. Оставим их для оценки общих экономических показателей продаж"
   ]
  },
  {
   "cell_type": "markdown",
   "metadata": {},
   "source": [
    "Рассчитаем таварооборот, валовый доход, ктн, АКБ помесячно по 22 и 23 году. Для автоматизации отчета в следующих периодах присовим имена переменным, исходя из следующей логики:\n",
    "- индекс 0 - результаты исследуемого месяца\n",
    "- индекс 1 - результаты за месяц до исследуемого месяца\n",
    "- индекс 2 - результаты за два месяца до исследуемого месяца"
   ]
  },
  {
   "cell_type": "markdown",
   "metadata": {},
   "source": [
    "Соберем результаты в отдельный Датафрейм по 22 году"
   ]
  },
  {
   "cell_type": "code",
   "execution_count": 217,
   "metadata": {},
   "outputs": [],
   "source": [
    "TO_22_0 = df_mb_22[df_mb_22['Дата'].dt.month == 10]['ТО, руб.'].sum()\n",
    "TO_22_1 = df_mb_22[df_mb_22['Дата'].dt.month == 9]['ТО, руб.'].sum()\n",
    "TO_22_2 = df_mb_22[df_mb_22['Дата'].dt.month == 8]['ТО, руб.'].sum()"
   ]
  },
  {
   "cell_type": "code",
   "execution_count": 218,
   "metadata": {},
   "outputs": [],
   "source": [
    "RV_22_0 = df_mb_22[df_mb_22['Дата'].dt.month == 10]['ВД, руб.'].sum()\n",
    "RV_22_1 = df_mb_22[df_mb_22['Дата'].dt.month == 9]['ВД, руб.'].sum()\n",
    "RV_22_2 = df_mb_22[df_mb_22['Дата'].dt.month == 8]['ВД, руб.'].sum()"
   ]
  },
  {
   "cell_type": "code",
   "execution_count": 219,
   "metadata": {},
   "outputs": [],
   "source": [
    "KTN_22_0 = TO_22_0/(TO_22_0 - RV_22_0)\n",
    "KTN_22_1 = TO_22_1/(TO_22_1 - RV_22_1)\n",
    "KTN_22_2 = TO_22_2/(TO_22_2 - RV_22_2)"
   ]
  },
  {
   "cell_type": "code",
   "execution_count": 220,
   "metadata": {},
   "outputs": [],
   "source": [
    "acb_22_0 = df_mb_22[df_mb_22['Дата'].dt.month == 10]['Код_клиента'].nunique()\n",
    "acb_22_1 = df_mb_22[df_mb_22['Дата'].dt.month == 9]['Код_клиента'].nunique()\n",
    "acb_22_2 = df_mb_22[df_mb_22['Дата'].dt.month == 8]['Код_клиента'].nunique()"
   ]
  },
  {
   "cell_type": "code",
   "execution_count": 221,
   "metadata": {},
   "outputs": [],
   "source": [
    "result_22 = pd.DataFrame(columns=[\"Месяц\", \"ТО_руб\", \"ВД_руб\", \"КТН\", \"АКБ\"])"
   ]
  },
  {
   "cell_type": "code",
   "execution_count": 222,
   "metadata": {},
   "outputs": [],
   "source": [
    "result_22.loc[len(result_22)]=['2', TO_22_2, RV_22_2, KTN_22_2, acb_22_2]\n",
    "result_22.loc[len(result_22)]=['1', TO_22_1, RV_22_1, KTN_22_1, acb_22_1]\n",
    "result_22.loc[len(result_22)]=['0', TO_22_0, RV_22_0, KTN_22_0, acb_22_0]\n"
   ]
  },
  {
   "cell_type": "code",
   "execution_count": 223,
   "metadata": {},
   "outputs": [],
   "source": [
    "result_22['Прирост ТО к пред. месяцу'] = result_22['ТО_руб'].pct_change()"
   ]
  },
  {
   "cell_type": "code",
   "execution_count": 224,
   "metadata": {},
   "outputs": [
    {
     "data": {
      "text/html": [
       "<div>\n",
       "<style scoped>\n",
       "    .dataframe tbody tr th:only-of-type {\n",
       "        vertical-align: middle;\n",
       "    }\n",
       "\n",
       "    .dataframe tbody tr th {\n",
       "        vertical-align: top;\n",
       "    }\n",
       "\n",
       "    .dataframe thead th {\n",
       "        text-align: right;\n",
       "    }\n",
       "</style>\n",
       "<table border=\"1\" class=\"dataframe\">\n",
       "  <thead>\n",
       "    <tr style=\"text-align: right;\">\n",
       "      <th></th>\n",
       "      <th>Месяц</th>\n",
       "      <th>ТО_руб</th>\n",
       "      <th>ВД_руб</th>\n",
       "      <th>КТН</th>\n",
       "      <th>АКБ</th>\n",
       "      <th>Прирост ТО к пред. месяцу</th>\n",
       "    </tr>\n",
       "  </thead>\n",
       "  <tbody>\n",
       "    <tr>\n",
       "      <th>0</th>\n",
       "      <td>2</td>\n",
       "      <td>6806072.11</td>\n",
       "      <td>2084486.69</td>\n",
       "      <td>1.441480</td>\n",
       "      <td>3786</td>\n",
       "      <td>NaN</td>\n",
       "    </tr>\n",
       "    <tr>\n",
       "      <th>1</th>\n",
       "      <td>1</td>\n",
       "      <td>7727242.11</td>\n",
       "      <td>2400308.94</td>\n",
       "      <td>1.450599</td>\n",
       "      <td>4203</td>\n",
       "      <td>0.135345</td>\n",
       "    </tr>\n",
       "    <tr>\n",
       "      <th>2</th>\n",
       "      <td>0</td>\n",
       "      <td>8381257.19</td>\n",
       "      <td>2825554.53</td>\n",
       "      <td>1.508586</td>\n",
       "      <td>4145</td>\n",
       "      <td>0.084638</td>\n",
       "    </tr>\n",
       "  </tbody>\n",
       "</table>\n",
       "</div>"
      ],
      "text/plain": [
       "  Месяц      ТО_руб      ВД_руб       КТН   АКБ  Прирост ТО к пред. месяцу\n",
       "0     2  6806072.11  2084486.69  1.441480  3786                        NaN\n",
       "1     1  7727242.11  2400308.94  1.450599  4203                   0.135345\n",
       "2     0  8381257.19  2825554.53  1.508586  4145                   0.084638"
      ]
     },
     "execution_count": 224,
     "metadata": {},
     "output_type": "execute_result"
    }
   ],
   "source": [
    "result_22.head()"
   ]
  },
  {
   "cell_type": "markdown",
   "metadata": {},
   "source": [
    "Соберем результаты в отдельный Датафрейм по 23 году"
   ]
  },
  {
   "cell_type": "code",
   "execution_count": 225,
   "metadata": {},
   "outputs": [],
   "source": [
    "TO_23_0 = df_mb_23[df_mb_23['Дата'].dt.month == 10]['ТО, руб.'].sum()\n",
    "TO_23_1 = df_mb_23[df_mb_23['Дата'].dt.month == 9]['ТО, руб.'].sum()\n",
    "TO_23_2 = df_mb_23[df_mb_23['Дата'].dt.month == 8]['ТО, руб.'].sum()"
   ]
  },
  {
   "cell_type": "code",
   "execution_count": 226,
   "metadata": {},
   "outputs": [],
   "source": [
    "RV_23_0 = df_mb_23[df_mb_23['Дата'].dt.month == 10]['ВД, руб.'].sum()\n",
    "RV_23_1 = df_mb_23[df_mb_23['Дата'].dt.month == 9]['ВД, руб.'].sum()\n",
    "RV_23_2 = df_mb_23[df_mb_23['Дата'].dt.month == 8]['ВД, руб.'].sum()\n"
   ]
  },
  {
   "cell_type": "code",
   "execution_count": 227,
   "metadata": {},
   "outputs": [],
   "source": [
    "KTN_23_0 = TO_23_0/(TO_23_0 - RV_23_0)\n",
    "KTN_23_1 = TO_23_1/(TO_23_1 - RV_23_1)\n",
    "KTN_23_2 = TO_23_2/(TO_23_2 - RV_23_2)"
   ]
  },
  {
   "cell_type": "code",
   "execution_count": 228,
   "metadata": {},
   "outputs": [],
   "source": [
    "acb_23_0 = df_mb_23[df_mb_23['Дата'].dt.month == 10]['Код_клиента'].nunique()\n",
    "acb_23_1 = df_mb_23[df_mb_23['Дата'].dt.month == 9]['Код_клиента'].nunique()\n",
    "acb_23_2 = df_mb_23[df_mb_23['Дата'].dt.month == 8]['Код_клиента'].nunique()"
   ]
  },
  {
   "cell_type": "code",
   "execution_count": 229,
   "metadata": {},
   "outputs": [],
   "source": [
    "result_23 = pd.DataFrame(columns=[\"Месяц\", \"ТО_руб\", \"ВД_руб\", \"КТН\", \"АКБ\"])"
   ]
  },
  {
   "cell_type": "code",
   "execution_count": 230,
   "metadata": {},
   "outputs": [],
   "source": [
    "result_23.loc[len(result_23)]=['2', TO_23_2, RV_23_2, KTN_23_2, acb_23_2]\n",
    "result_23.loc[len(result_23)]=['1', TO_23_1, RV_23_1, KTN_23_1, acb_23_1]\n",
    "result_23.loc[len(result_23)]=['0', TO_23_0, RV_23_0, KTN_23_0, acb_23_0]"
   ]
  },
  {
   "cell_type": "markdown",
   "metadata": {},
   "source": [
    "Рассчитаем прирост ТО к предыдущему месяцу"
   ]
  },
  {
   "cell_type": "code",
   "execution_count": 231,
   "metadata": {},
   "outputs": [],
   "source": [
    "result_23['Прирост ТО к пред. месяцу'] = result_23['ТО_руб'].pct_change()"
   ]
  },
  {
   "cell_type": "markdown",
   "metadata": {},
   "source": [
    "Посчитаем прирост LFL для каждого месяца"
   ]
  },
  {
   "cell_type": "code",
   "execution_count": 232,
   "metadata": {},
   "outputs": [],
   "source": [
    "result_23['Прирост LFL'] = (result_23['ТО_руб'] / result_22['ТО_руб']) - 1"
   ]
  },
  {
   "cell_type": "code",
   "execution_count": 233,
   "metadata": {},
   "outputs": [
    {
     "data": {
      "text/html": [
       "<div>\n",
       "<style scoped>\n",
       "    .dataframe tbody tr th:only-of-type {\n",
       "        vertical-align: middle;\n",
       "    }\n",
       "\n",
       "    .dataframe tbody tr th {\n",
       "        vertical-align: top;\n",
       "    }\n",
       "\n",
       "    .dataframe thead th {\n",
       "        text-align: right;\n",
       "    }\n",
       "</style>\n",
       "<table border=\"1\" class=\"dataframe\">\n",
       "  <thead>\n",
       "    <tr style=\"text-align: right;\">\n",
       "      <th></th>\n",
       "      <th>Месяц</th>\n",
       "      <th>ТО_руб</th>\n",
       "      <th>ВД_руб</th>\n",
       "      <th>КТН</th>\n",
       "      <th>АКБ</th>\n",
       "      <th>Прирост ТО к пред. месяцу</th>\n",
       "      <th>Прирост LFL</th>\n",
       "    </tr>\n",
       "  </thead>\n",
       "  <tbody>\n",
       "    <tr>\n",
       "      <th>0</th>\n",
       "      <td>2</td>\n",
       "      <td>8339853.33</td>\n",
       "      <td>3004908.99</td>\n",
       "      <td>1.563250</td>\n",
       "      <td>4636</td>\n",
       "      <td>NaN</td>\n",
       "      <td>0.225355</td>\n",
       "    </tr>\n",
       "    <tr>\n",
       "      <th>1</th>\n",
       "      <td>1</td>\n",
       "      <td>9011455.54</td>\n",
       "      <td>3332982.19</td>\n",
       "      <td>1.586950</td>\n",
       "      <td>4767</td>\n",
       "      <td>0.080529</td>\n",
       "      <td>0.166193</td>\n",
       "    </tr>\n",
       "    <tr>\n",
       "      <th>2</th>\n",
       "      <td>0</td>\n",
       "      <td>9509329.64</td>\n",
       "      <td>3455917.22</td>\n",
       "      <td>1.570904</td>\n",
       "      <td>4495</td>\n",
       "      <td>0.055249</td>\n",
       "      <td>0.134595</td>\n",
       "    </tr>\n",
       "  </tbody>\n",
       "</table>\n",
       "</div>"
      ],
      "text/plain": [
       "  Месяц      ТО_руб      ВД_руб       КТН   АКБ  Прирост ТО к пред. месяцу  \\\n",
       "0     2  8339853.33  3004908.99  1.563250  4636                        NaN   \n",
       "1     1  9011455.54  3332982.19  1.586950  4767                   0.080529   \n",
       "2     0  9509329.64  3455917.22  1.570904  4495                   0.055249   \n",
       "\n",
       "   Прирост LFL  \n",
       "0     0.225355  \n",
       "1     0.166193  \n",
       "2     0.134595  "
      ]
     },
     "execution_count": 233,
     "metadata": {},
     "output_type": "execute_result"
    }
   ],
   "source": [
    "result_23.head()"
   ]
  },
  {
   "cell_type": "markdown",
   "metadata": {},
   "source": [
    "Сравним прирост LFL выборки с приростом LFL по всему каналу продаж ИМК"
   ]
  },
  {
   "cell_type": "code",
   "execution_count": 234,
   "metadata": {},
   "outputs": [
    {
     "name": "stdout",
     "output_type": "stream",
     "text": [
      " прирост 2 -  0.13616922406943277\n",
      " прирост 1 -  0.18072830624373482\n",
      " прирост 0 -  0.39354905244100036\n"
     ]
    }
   ],
   "source": [
    "print(f\" прирост 2 -  {(df_23[df_23['Дата'].dt.month == 8]['ТО, руб.'].sum()/df_22[df_22['Дата'].dt.month == 8]['ТО, руб.'].sum())-1}\")\n",
    "print(f\" прирост 1 -  {(df_23[df_23['Дата'].dt.month == 9]['ТО, руб.'].sum()/df_22[df_22['Дата'].dt.month == 9]['ТО, руб.'].sum())-1}\")\n",
    "print(f\" прирост 0 -  {(df_23[df_23['Дата'].dt.month == 10]['ТО, руб.'].sum()/df_22[df_22['Дата'].dt.month == 10]['ТО, руб.'].sum())-1}\")\n"
   ]
  },
  {
   "cell_type": "code",
   "execution_count": 235,
   "metadata": {},
   "outputs": [
    {
     "data": {
      "image/png": "[encoded data removed]",
      "text/plain": [
       "<Figure size 640x480 with 1 Axes>"
      ]
     },
     "metadata": {},
     "output_type": "display_data"
    }
   ],
   "source": [
    "plt.plot(result_23['Месяц'], result_23['ТО_руб'], label ='2023')\n",
    "plt.plot(result_22['Месяц'], result_22['ТО_руб'], label ='2022' )\n",
    "\n",
    "plt.legend()\n",
    "plt.xlabel('Месяц')\n",
    "plt.ylabel('ТО руб')\n",
    "plt.title('Динамика продаж LFL')\n",
    "plt.show()"
   ]
  },
  {
   "cell_type": "markdown",
   "metadata": {},
   "source": [
    "Рассчитаем статистические показатели для Количества каждой продажи помесячно по 22 году "
   ]
  },
  {
   "cell_type": "code",
   "execution_count": 236,
   "metadata": {},
   "outputs": [],
   "source": [
    "mode_22_0 = df_mb_22[df_mb_22['Дата'].dt.month == 10]['Кол-во'].mode()\n",
    "mode_22_1 = df_mb_22[df_mb_22['Дата'].dt.month == 9]['Кол-во'].mode()\n",
    "mode_22_2 = df_mb_22[df_mb_22['Дата'].dt.month == 8]['Кол-во'].mode()"
   ]
  },
  {
   "cell_type": "code",
   "execution_count": 237,
   "metadata": {},
   "outputs": [],
   "source": [
    "mean_22_0 = df_mb_22[df_mb_22['Дата'].dt.month == 10]['Кол-во'].mean()\n",
    "mean_22_1 = df_mb_22[df_mb_22['Дата'].dt.month == 9]['Кол-во'].mean()\n",
    "mean_22_2 = df_mb_22[df_mb_22['Дата'].dt.month == 8]['Кол-во'].mean()"
   ]
  },
  {
   "cell_type": "code",
   "execution_count": 238,
   "metadata": {},
   "outputs": [],
   "source": [
    "median_22_0 = df_mb_22[df_mb_22['Дата'].dt.month == 10]['Кол-во'].median()\n",
    "median_22_1 = df_mb_22[df_mb_22['Дата'].dt.month == 9]['Кол-во'].median()\n",
    "median_22_2 = df_mb_22[df_mb_22['Дата'].dt.month == 8]['Кол-во'].median()"
   ]
  },
  {
   "cell_type": "code",
   "execution_count": 245,
   "metadata": {},
   "outputs": [
    {
     "data": {
      "text/plain": [
       "count    8664.000000\n",
       "mean       25.587258\n",
       "std        90.461232\n",
       "min         1.000000\n",
       "25%         2.000000\n",
       "50%         6.000000\n",
       "75%        20.000000\n",
       "max      4000.000000\n",
       "Name: Кол-во, dtype: float64"
      ]
     },
     "execution_count": 245,
     "metadata": {},
     "output_type": "execute_result"
    }
   ],
   "source": [
    "df_mb_22[df_mb_22['Дата'].dt.month == 10]['Кол-во'].describe()"
   ]
  },
  {
   "cell_type": "code",
   "execution_count": 246,
   "metadata": {},
   "outputs": [
    {
     "data": {
      "text/plain": [
       "count    8602.000000\n",
       "mean       26.521390\n",
       "std       108.685052\n",
       "min         1.000000\n",
       "25%         2.000000\n",
       "50%         6.000000\n",
       "75%        20.000000\n",
       "max      7000.000000\n",
       "Name: Кол-во, dtype: float64"
      ]
     },
     "execution_count": 246,
     "metadata": {},
     "output_type": "execute_result"
    }
   ],
   "source": [
    "df_mb_22[df_mb_22['Дата'].dt.month == 9]['Кол-во'].describe()"
   ]
  },
  {
   "cell_type": "code",
   "execution_count": 247,
   "metadata": {},
   "outputs": [
    {
     "data": {
      "text/plain": [
       "count    7963.000000\n",
       "mean       25.010046\n",
       "std        88.048622\n",
       "min         1.000000\n",
       "25%         2.000000\n",
       "50%         6.000000\n",
       "75%        20.000000\n",
       "max      3948.000000\n",
       "Name: Кол-во, dtype: float64"
      ]
     },
     "execution_count": 247,
     "metadata": {},
     "output_type": "execute_result"
    }
   ],
   "source": [
    "df_mb_22[df_mb_22['Дата'].dt.month == 8]['Кол-во'].describe()"
   ]
  },
  {
   "cell_type": "markdown",
   "metadata": {},
   "source": [
    "Соберем результаты для 22 г  в Датасет "
   ]
  },
  {
   "cell_type": "code",
   "execution_count": 248,
   "metadata": {},
   "outputs": [],
   "source": [
    "stats_22 = pd.DataFrame(columns=[\"Месяц\",\"Мода\", \"Среднее\", \"Медиана\"]) "
   ]
  },
  {
   "cell_type": "code",
   "execution_count": 249,
   "metadata": {},
   "outputs": [
    {
     "data": {
      "text/html": [
       "<div>\n",
       "<style scoped>\n",
       "    .dataframe tbody tr th:only-of-type {\n",
       "        vertical-align: middle;\n",
       "    }\n",
       "\n",
       "    .dataframe tbody tr th {\n",
       "        vertical-align: top;\n",
       "    }\n",
       "\n",
       "    .dataframe thead th {\n",
       "        text-align: right;\n",
       "    }\n",
       "</style>\n",
       "<table border=\"1\" class=\"dataframe\">\n",
       "  <thead>\n",
       "    <tr style=\"text-align: right;\">\n",
       "      <th></th>\n",
       "      <th>Месяц</th>\n",
       "      <th>Мода</th>\n",
       "      <th>Среднее</th>\n",
       "      <th>Медиана</th>\n",
       "    </tr>\n",
       "  </thead>\n",
       "  <tbody>\n",
       "    <tr>\n",
       "      <th>0</th>\n",
       "      <td>2</td>\n",
       "      <td>0    1.0\n",
       "Name: Кол-во, dtype: float64</td>\n",
       "      <td>25.010046</td>\n",
       "      <td>6.0</td>\n",
       "    </tr>\n",
       "    <tr>\n",
       "      <th>1</th>\n",
       "      <td>1</td>\n",
       "      <td>0    1.0\n",
       "Name: Кол-во, dtype: float64</td>\n",
       "      <td>26.521390</td>\n",
       "      <td>6.0</td>\n",
       "    </tr>\n",
       "    <tr>\n",
       "      <th>2</th>\n",
       "      <td>0</td>\n",
       "      <td>0    1.0\n",
       "Name: Кол-во, dtype: float64</td>\n",
       "      <td>25.587258</td>\n",
       "      <td>6.0</td>\n",
       "    </tr>\n",
       "  </tbody>\n",
       "</table>\n",
       "</div>"
      ],
      "text/plain": [
       "  Месяц                                   Мода    Среднее  Медиана\n",
       "0     2  0    1.0\n",
       "Name: Кол-во, dtype: float64  25.010046      6.0\n",
       "1     1  0    1.0\n",
       "Name: Кол-во, dtype: float64  26.521390      6.0\n",
       "2     0  0    1.0\n",
       "Name: Кол-во, dtype: float64  25.587258      6.0"
      ]
     },
     "execution_count": 249,
     "metadata": {},
     "output_type": "execute_result"
    }
   ],
   "source": [
    "stats_22.loc[len(stats_22)]=['2', mode_22_2, mean_22_2, median_22_2 ]\n",
    "stats_22.loc[len(stats_22)]=['1', mode_22_1, mean_22_1, median_22_1 ]\n",
    "stats_22.loc[len(stats_22)]=['0', mode_22_0, mean_22_0, median_22_0 ]\n",
    "stats_22.head()"
   ]
  },
  {
   "cell_type": "markdown",
   "metadata": {},
   "source": [
    "Те же метрики рассчитываем для 23 года"
   ]
  },
  {
   "cell_type": "code",
   "execution_count": 250,
   "metadata": {},
   "outputs": [],
   "source": [
    "mode_23_0 = df_mb_23[df_mb_23['Дата'].dt.month == 10]['Кол-во'].mode()\n",
    "mode_23_1 = df_mb_23[df_mb_23['Дата'].dt.month == 9]['Кол-во'].mode()\n",
    "mode_23_2 = df_mb_23[df_mb_23['Дата'].dt.month == 8]['Кол-во'].mode()\n"
   ]
  },
  {
   "cell_type": "code",
   "execution_count": 251,
   "metadata": {},
   "outputs": [],
   "source": [
    "mean_23_0 = df_mb_23[df_mb_23['Дата'].dt.month == 10]['Кол-во'].mean()\n",
    "mean_23_1 = df_mb_23[df_mb_23['Дата'].dt.month == 9]['Кол-во'].mean()\n",
    "mean_23_2 = df_mb_23[df_mb_23['Дата'].dt.month == 8]['Кол-во'].mean()"
   ]
  },
  {
   "cell_type": "code",
   "execution_count": 252,
   "metadata": {},
   "outputs": [],
   "source": [
    "median_23_0 = df_mb_23[df_mb_23['Дата'].dt.month == 10]['Кол-во'].median()\n",
    "median_23_1 = df_mb_23[df_mb_23['Дата'].dt.month == 9]['Кол-во'].median()\n",
    "median_23_2 = df_mb_23[df_mb_23['Дата'].dt.month == 8]['Кол-во'].median()"
   ]
  },
  {
   "cell_type": "code",
   "execution_count": 253,
   "metadata": {},
   "outputs": [
    {
     "data": {
      "text/plain": [
       "count    9838.000000\n",
       "mean       26.890527\n",
       "std       107.176059\n",
       "min         1.000000\n",
       "25%         3.000000\n",
       "50%         8.000000\n",
       "75%        20.000000\n",
       "max      6000.000000\n",
       "Name: Кол-во, dtype: float64"
      ]
     },
     "execution_count": 253,
     "metadata": {},
     "output_type": "execute_result"
    }
   ],
   "source": [
    "df_mb_23[df_mb_23['Дата'].dt.month == 10]['Кол-во'].describe()"
   ]
  },
  {
   "cell_type": "code",
   "execution_count": 254,
   "metadata": {},
   "outputs": [
    {
     "data": {
      "text/plain": [
       "count    9779.000000\n",
       "mean       24.968708\n",
       "std       104.039878\n",
       "min         1.000000\n",
       "25%         2.000000\n",
       "50%         5.000000\n",
       "75%        20.000000\n",
       "max      3335.000000\n",
       "Name: Кол-во, dtype: float64"
      ]
     },
     "execution_count": 254,
     "metadata": {},
     "output_type": "execute_result"
    }
   ],
   "source": [
    "df_mb_23[df_mb_23['Дата'].dt.month == 9]['Кол-во'].describe()"
   ]
  },
  {
   "cell_type": "code",
   "execution_count": 255,
   "metadata": {},
   "outputs": [
    {
     "data": {
      "text/plain": [
       "count    9884.000000\n",
       "mean       25.028632\n",
       "std        94.523195\n",
       "min         1.000000\n",
       "25%         2.000000\n",
       "50%         5.000000\n",
       "75%        20.000000\n",
       "max      4081.000000\n",
       "Name: Кол-во, dtype: float64"
      ]
     },
     "execution_count": 255,
     "metadata": {},
     "output_type": "execute_result"
    }
   ],
   "source": [
    "df_mb_23[df_mb_23['Дата'].dt.month == 8]['Кол-во'].describe()"
   ]
  },
  {
   "cell_type": "markdown",
   "metadata": {},
   "source": [
    "Соберем результаты для 23 г  в Датасет"
   ]
  },
  {
   "cell_type": "code",
   "execution_count": 256,
   "metadata": {},
   "outputs": [],
   "source": [
    "stats_23 = pd.DataFrame(columns=[\"Месяц\",\"Мода\", \"Среднее\", \"Медиана\"]) "
   ]
  },
  {
   "cell_type": "code",
   "execution_count": 257,
   "metadata": {},
   "outputs": [
    {
     "data": {
      "text/html": [
       "<div>\n",
       "<style scoped>\n",
       "    .dataframe tbody tr th:only-of-type {\n",
       "        vertical-align: middle;\n",
       "    }\n",
       "\n",
       "    .dataframe tbody tr th {\n",
       "        vertical-align: top;\n",
       "    }\n",
       "\n",
       "    .dataframe thead th {\n",
       "        text-align: right;\n",
       "    }\n",
       "</style>\n",
       "<table border=\"1\" class=\"dataframe\">\n",
       "  <thead>\n",
       "    <tr style=\"text-align: right;\">\n",
       "      <th></th>\n",
       "      <th>Месяц</th>\n",
       "      <th>Мода</th>\n",
       "      <th>Среднее</th>\n",
       "      <th>Медиана</th>\n",
       "    </tr>\n",
       "  </thead>\n",
       "  <tbody>\n",
       "    <tr>\n",
       "      <th>0</th>\n",
       "      <td>2</td>\n",
       "      <td>0    1.0\n",
       "Name: Кол-во, dtype: float64</td>\n",
       "      <td>25.028632</td>\n",
       "      <td>5.0</td>\n",
       "    </tr>\n",
       "    <tr>\n",
       "      <th>1</th>\n",
       "      <td>1</td>\n",
       "      <td>0    1.0\n",
       "Name: Кол-во, dtype: float64</td>\n",
       "      <td>24.968708</td>\n",
       "      <td>5.0</td>\n",
       "    </tr>\n",
       "    <tr>\n",
       "      <th>2</th>\n",
       "      <td>0</td>\n",
       "      <td>0    10.0\n",
       "Name: Кол-во, dtype: float64</td>\n",
       "      <td>26.890527</td>\n",
       "      <td>8.0</td>\n",
       "    </tr>\n",
       "  </tbody>\n",
       "</table>\n",
       "</div>"
      ],
      "text/plain": [
       "  Месяц                                    Мода    Среднее  Медиана\n",
       "0     2   0    1.0\n",
       "Name: Кол-во, dtype: float64  25.028632      5.0\n",
       "1     1   0    1.0\n",
       "Name: Кол-во, dtype: float64  24.968708      5.0\n",
       "2     0  0    10.0\n",
       "Name: Кол-во, dtype: float64  26.890527      8.0"
      ]
     },
     "execution_count": 257,
     "metadata": {},
     "output_type": "execute_result"
    }
   ],
   "source": [
    "stats_23.loc[len(stats_23)]=['2', mode_23_2, mean_23_2, median_23_2 ]\n",
    "stats_23.loc[len(stats_23)]=['1', mode_23_1, mean_23_1, median_23_1 ]\n",
    "stats_23.loc[len(stats_23)]=['0', mode_23_0, mean_23_0, median_23_0 ]\n",
    "stats_23.head()"
   ]
  },
  {
   "cell_type": "code",
   "execution_count": 259,
   "metadata": {},
   "outputs": [
    {
     "data": {
      "text/plain": [
       "0    5.0\n",
       "Name: Финал Эксп. МП, dtype: float64"
      ]
     },
     "execution_count": 259,
     "metadata": {},
     "output_type": "execute_result"
    }
   ],
   "source": [
    "# Мода по установленным минимальным партиям в наложении на продажи 10 месяца. Текущая Мода продаж в 2 раза выше\n",
    "mode_mb_0 = df_mb_23[df_mb_23['Дата'].dt.month == 10]['Финал Эксп. МП'].mode()\n",
    "mode_mb_0"
   ]
  },
  {
   "cell_type": "markdown",
   "metadata": {},
   "source": [
    "Создадим сводную таблицу для анализа продаж поартикульно"
   ]
  },
  {
   "cell_type": "code",
   "execution_count": 285,
   "metadata": {},
   "outputs": [
    {
     "data": {
      "text/plain": [
       "Index(['Дата', 'Номер_документа', 'Код_клиента', 'Артикул', 'Кол-во',\n",
       "       'ТО, руб.', 'ВД, руб.', 'КТН', 'АКБ', 'Наименование', 'Финал Эксп. МП',\n",
       "       'ТК', 'АГ'],\n",
       "      dtype='object')"
      ]
     },
     "execution_count": 285,
     "metadata": {},
     "output_type": "execute_result"
    }
   ],
   "source": [
    "df_mb_23.columns"
   ]
  },
  {
   "cell_type": "code",
   "execution_count": 265,
   "metadata": {},
   "outputs": [],
   "source": [
    "import numpy as np"
   ]
  },
  {
   "cell_type": "code",
   "execution_count": 300,
   "metadata": {},
   "outputs": [],
   "source": [
    "pv_mb_23 = pd.pivot_table(df_mb_23, index = ['Артикул', 'Наименование', 'ТК', 'АГ', 'Финал Эксп. МП'],\n",
    "                                    columns=[df_mb_23['Дата'].dt.month],\n",
    "                                    values=['Кол-во', 'ТО, руб.','Код_клиента','Номер_документа' ],\n",
    "                                    aggfunc= {'Кол-во':[np.sum, np.mean, np.median],'ТО, руб.':[np.sum], 'Код_клиента':[pd.Series.nunique],  'Номер_документа':[pd.Series.nunique]},\n",
    "               fill_value=0)\n"
   ]
  },
  {
   "cell_type": "code",
   "execution_count": 301,
   "metadata": {},
   "outputs": [
    {
     "data": {
      "text/html": [
       "<div>\n",
       "<style scoped>\n",
       "    .dataframe tbody tr th:only-of-type {\n",
       "        vertical-align: middle;\n",
       "    }\n",
       "\n",
       "    .dataframe tbody tr th {\n",
       "        vertical-align: top;\n",
       "    }\n",
       "\n",
       "    .dataframe thead tr th {\n",
       "        text-align: left;\n",
       "    }\n",
       "\n",
       "    .dataframe thead tr:last-of-type th {\n",
       "        text-align: right;\n",
       "    }\n",
       "</style>\n",
       "<table border=\"1\" class=\"dataframe\">\n",
       "  <thead>\n",
       "    <tr>\n",
       "      <th></th>\n",
       "      <th></th>\n",
       "      <th></th>\n",
       "      <th></th>\n",
       "      <th></th>\n",
       "      <th colspan=\"3\" halign=\"left\">Код_клиента</th>\n",
       "      <th colspan=\"9\" halign=\"left\">Кол-во</th>\n",
       "      <th colspan=\"3\" halign=\"left\">Номер_документа</th>\n",
       "      <th colspan=\"3\" halign=\"left\">ТО, руб.</th>\n",
       "    </tr>\n",
       "    <tr>\n",
       "      <th></th>\n",
       "      <th></th>\n",
       "      <th></th>\n",
       "      <th></th>\n",
       "      <th></th>\n",
       "      <th colspan=\"3\" halign=\"left\">nunique</th>\n",
       "      <th colspan=\"3\" halign=\"left\">mean</th>\n",
       "      <th colspan=\"3\" halign=\"left\">median</th>\n",
       "      <th colspan=\"3\" halign=\"left\">sum</th>\n",
       "      <th colspan=\"3\" halign=\"left\">nunique</th>\n",
       "      <th colspan=\"3\" halign=\"left\">sum</th>\n",
       "    </tr>\n",
       "    <tr>\n",
       "      <th></th>\n",
       "      <th></th>\n",
       "      <th></th>\n",
       "      <th></th>\n",
       "      <th>Дата</th>\n",
       "      <th>8</th>\n",
       "      <th>9</th>\n",
       "      <th>10</th>\n",
       "      <th>8</th>\n",
       "      <th>9</th>\n",
       "      <th>10</th>\n",
       "      <th>8</th>\n",
       "      <th>9</th>\n",
       "      <th>10</th>\n",
       "      <th>8</th>\n",
       "      <th>9</th>\n",
       "      <th>10</th>\n",
       "      <th>8</th>\n",
       "      <th>9</th>\n",
       "      <th>10</th>\n",
       "      <th>8</th>\n",
       "      <th>9</th>\n",
       "      <th>10</th>\n",
       "    </tr>\n",
       "    <tr>\n",
       "      <th>Артикул</th>\n",
       "      <th>Наименование</th>\n",
       "      <th>ТК</th>\n",
       "      <th>АГ</th>\n",
       "      <th>Финал Эксп. МП</th>\n",
       "      <th></th>\n",
       "      <th></th>\n",
       "      <th></th>\n",
       "      <th></th>\n",
       "      <th></th>\n",
       "      <th></th>\n",
       "      <th></th>\n",
       "      <th></th>\n",
       "      <th></th>\n",
       "      <th></th>\n",
       "      <th></th>\n",
       "      <th></th>\n",
       "      <th></th>\n",
       "      <th></th>\n",
       "      <th></th>\n",
       "      <th></th>\n",
       "      <th></th>\n",
       "      <th></th>\n",
       "    </tr>\n",
       "  </thead>\n",
       "  <tbody>\n",
       "    <tr>\n",
       "      <th>15639</th>\n",
       "      <th>Лента тепл.регист. для ЭКГ SCHILLER АT-10 210х140х250 К210Z140АК250 28шт./у</th>\n",
       "      <th>Бумага регистрирующая для мед. приборов</th>\n",
       "      <th>Бумага для импортных и отечественных ЭКГ</th>\n",
       "      <th>7.0</th>\n",
       "      <td>5</td>\n",
       "      <td>3</td>\n",
       "      <td>8</td>\n",
       "      <td>10.800000</td>\n",
       "      <td>5.000000</td>\n",
       "      <td>3.625000</td>\n",
       "      <td>10.0</td>\n",
       "      <td>4.0</td>\n",
       "      <td>2.0</td>\n",
       "      <td>54</td>\n",
       "      <td>15</td>\n",
       "      <td>29</td>\n",
       "      <td>5</td>\n",
       "      <td>3</td>\n",
       "      <td>8</td>\n",
       "      <td>25506.70</td>\n",
       "      <td>7499.52</td>\n",
       "      <td>18788.32</td>\n",
       "    </tr>\n",
       "    <tr>\n",
       "      <th>16335</th>\n",
       "      <th>Гель для ЭКГ УНИАГЕЛЬ 250г/бут.</th>\n",
       "      <th>Расходные материалы для диагностики</th>\n",
       "      <th>Контактные среды для исследований</th>\n",
       "      <th>2.0</th>\n",
       "      <td>13</td>\n",
       "      <td>10</td>\n",
       "      <td>14</td>\n",
       "      <td>7.071429</td>\n",
       "      <td>2.300000</td>\n",
       "      <td>6.000000</td>\n",
       "      <td>3.5</td>\n",
       "      <td>1.5</td>\n",
       "      <td>3.0</td>\n",
       "      <td>99</td>\n",
       "      <td>23</td>\n",
       "      <td>84</td>\n",
       "      <td>14</td>\n",
       "      <td>10</td>\n",
       "      <td>14</td>\n",
       "      <td>10265.95</td>\n",
       "      <td>2205.01</td>\n",
       "      <td>8569.58</td>\n",
       "    </tr>\n",
       "    <tr>\n",
       "      <th>29024</th>\n",
       "      <th>Лента тепл.регист. для ЭКГ NIHON KOHDEN 110х140х142 К110Z140АК142 114шт./уп</th>\n",
       "      <th>Бумага регистрирующая для мед. приборов</th>\n",
       "      <th>Бумага для импортных и отечественных ЭКГ</th>\n",
       "      <th>6.0</th>\n",
       "      <td>3</td>\n",
       "      <td>6</td>\n",
       "      <td>4</td>\n",
       "      <td>190.000000</td>\n",
       "      <td>13.500000</td>\n",
       "      <td>13.750000</td>\n",
       "      <td>50.0</td>\n",
       "      <td>12.5</td>\n",
       "      <td>15.0</td>\n",
       "      <td>570</td>\n",
       "      <td>81</td>\n",
       "      <td>55</td>\n",
       "      <td>3</td>\n",
       "      <td>6</td>\n",
       "      <td>4</td>\n",
       "      <td>80770.50</td>\n",
       "      <td>13805.22</td>\n",
       "      <td>9182.91</td>\n",
       "    </tr>\n",
       "    <tr>\n",
       "      <th>46018</th>\n",
       "      <th>Гель для ЭКГ Жидкость электродная контактная с высок.электр.для ЭКГ УНИСПРЕЙ200гр/бут</th>\n",
       "      <th>Расходные материалы для диагностики</th>\n",
       "      <th>Контактные среды для исследований</th>\n",
       "      <th>2.0</th>\n",
       "      <td>40</td>\n",
       "      <td>35</td>\n",
       "      <td>29</td>\n",
       "      <td>5.341463</td>\n",
       "      <td>4.973684</td>\n",
       "      <td>6.258065</td>\n",
       "      <td>3.0</td>\n",
       "      <td>5.0</td>\n",
       "      <td>5.0</td>\n",
       "      <td>219</td>\n",
       "      <td>189</td>\n",
       "      <td>194</td>\n",
       "      <td>41</td>\n",
       "      <td>38</td>\n",
       "      <td>31</td>\n",
       "      <td>23045.53</td>\n",
       "      <td>19905.99</td>\n",
       "      <td>20239.76</td>\n",
       "    </tr>\n",
       "    <tr>\n",
       "      <th>61043</th>\n",
       "      <th>Гель для ЭКГ УНИМАКС 250г/бут.</th>\n",
       "      <th>Расходные материалы для диагностики</th>\n",
       "      <th>Контактные среды для исследований</th>\n",
       "      <th>2.0</th>\n",
       "      <td>5</td>\n",
       "      <td>9</td>\n",
       "      <td>1</td>\n",
       "      <td>8.200000</td>\n",
       "      <td>3.666667</td>\n",
       "      <td>4.000000</td>\n",
       "      <td>2.0</td>\n",
       "      <td>1.0</td>\n",
       "      <td>4.0</td>\n",
       "      <td>41</td>\n",
       "      <td>33</td>\n",
       "      <td>4</td>\n",
       "      <td>5</td>\n",
       "      <td>9</td>\n",
       "      <td>1</td>\n",
       "      <td>5162.70</td>\n",
       "      <td>4067.33</td>\n",
       "      <td>421.21</td>\n",
       "    </tr>\n",
       "  </tbody>\n",
       "</table>\n",
       "</div>"
      ],
      "text/plain": [
       "                                                                                                                                                           Код_клиента  \\\n",
       "                                                                                                                                                               nunique   \n",
       "Дата                                                                                                                                                                8    \n",
       "Артикул Наименование                                       ТК                                      АГ                                       Финал Эксп. МП               \n",
       "15639   Лента тепл.регист. для ЭКГ SCHILLER АT-10 210х1... Бумага регистрирующая для мед. приборов Бумага для импортных и отечественных ЭКГ 7.0                      5   \n",
       "16335   Гель для ЭКГ УНИАГЕЛЬ 250г/бут.                    Расходные материалы для диагностики     Контактные среды для исследований        2.0                     13   \n",
       "29024   Лента тепл.регист. для ЭКГ NIHON KOHDEN 110х140... Бумага регистрирующая для мед. приборов Бумага для импортных и отечественных ЭКГ 6.0                      3   \n",
       "46018   Гель для ЭКГ Жидкость электродная контактная с ... Расходные материалы для диагностики     Контактные среды для исследований        2.0                     40   \n",
       "61043   Гель для ЭКГ УНИМАКС 250г/бут.                     Расходные материалы для диагностики     Контактные среды для исследований        2.0                      5   \n",
       "\n",
       "                                                                                                                                                                \\\n",
       "                                                                                                                                                                 \n",
       "Дата                                                                                                                                                        9    \n",
       "Артикул Наименование                                       ТК                                      АГ                                       Финал Эксп. МП       \n",
       "15639   Лента тепл.регист. для ЭКГ SCHILLER АT-10 210х1... Бумага регистрирующая для мед. приборов Бумага для импортных и отечественных ЭКГ 7.0              3   \n",
       "16335   Гель для ЭКГ УНИАГЕЛЬ 250г/бут.                    Расходные материалы для диагностики     Контактные среды для исследований        2.0             10   \n",
       "29024   Лента тепл.регист. для ЭКГ NIHON KOHDEN 110х140... Бумага регистрирующая для мед. приборов Бумага для импортных и отечественных ЭКГ 6.0              6   \n",
       "46018   Гель для ЭКГ Жидкость электродная контактная с ... Расходные материалы для диагностики     Контактные среды для исследований        2.0             35   \n",
       "61043   Гель для ЭКГ УНИМАКС 250г/бут.                     Расходные материалы для диагностики     Контактные среды для исследований        2.0              9   \n",
       "\n",
       "                                                                                                                                                                \\\n",
       "                                                                                                                                                                 \n",
       "Дата                                                                                                                                                        10   \n",
       "Артикул Наименование                                       ТК                                      АГ                                       Финал Эксп. МП       \n",
       "15639   Лента тепл.регист. для ЭКГ SCHILLER АT-10 210х1... Бумага регистрирующая для мед. приборов Бумага для импортных и отечественных ЭКГ 7.0              8   \n",
       "16335   Гель для ЭКГ УНИАГЕЛЬ 250г/бут.                    Расходные материалы для диагностики     Контактные среды для исследований        2.0             14   \n",
       "29024   Лента тепл.регист. для ЭКГ NIHON KOHDEN 110х140... Бумага регистрирующая для мед. приборов Бумага для импортных и отечественных ЭКГ 6.0              4   \n",
       "46018   Гель для ЭКГ Жидкость электродная контактная с ... Расходные материалы для диагностики     Контактные среды для исследований        2.0             29   \n",
       "61043   Гель для ЭКГ УНИМАКС 250г/бут.                     Расходные материалы для диагностики     Контактные среды для исследований        2.0              1   \n",
       "\n",
       "                                                                                                                                                                Кол-во  \\\n",
       "                                                                                                                                                                  mean   \n",
       "Дата                                                                                                                                                                8    \n",
       "Артикул Наименование                                       ТК                                      АГ                                       Финал Эксп. МП               \n",
       "15639   Лента тепл.регист. для ЭКГ SCHILLER АT-10 210х1... Бумага регистрирующая для мед. приборов Бумага для импортных и отечественных ЭКГ 7.0              10.800000   \n",
       "16335   Гель для ЭКГ УНИАГЕЛЬ 250г/бут.                    Расходные материалы для диагностики     Контактные среды для исследований        2.0               7.071429   \n",
       "29024   Лента тепл.регист. для ЭКГ NIHON KOHDEN 110х140... Бумага регистрирующая для мед. приборов Бумага для импортных и отечественных ЭКГ 6.0             190.000000   \n",
       "46018   Гель для ЭКГ Жидкость электродная контактная с ... Расходные материалы для диагностики     Контактные среды для исследований        2.0               5.341463   \n",
       "61043   Гель для ЭКГ УНИМАКС 250г/бут.                     Расходные материалы для диагностики     Контактные среды для исследований        2.0               8.200000   \n",
       "\n",
       "                                                                                                                                                                       \\\n",
       "                                                                                                                                                                        \n",
       "Дата                                                                                                                                                               9    \n",
       "Артикул Наименование                                       ТК                                      АГ                                       Финал Эксп. МП              \n",
       "15639   Лента тепл.регист. для ЭКГ SCHILLER АT-10 210х1... Бумага регистрирующая для мед. приборов Бумага для импортных и отечественных ЭКГ 7.0              5.000000   \n",
       "16335   Гель для ЭКГ УНИАГЕЛЬ 250г/бут.                    Расходные материалы для диагностики     Контактные среды для исследований        2.0              2.300000   \n",
       "29024   Лента тепл.регист. для ЭКГ NIHON KOHDEN 110х140... Бумага регистрирующая для мед. приборов Бумага для импортных и отечественных ЭКГ 6.0             13.500000   \n",
       "46018   Гель для ЭКГ Жидкость электродная контактная с ... Расходные материалы для диагностики     Контактные среды для исследований        2.0              4.973684   \n",
       "61043   Гель для ЭКГ УНИМАКС 250г/бут.                     Расходные материалы для диагностики     Контактные среды для исследований        2.0              3.666667   \n",
       "\n",
       "                                                                                                                                                                       \\\n",
       "                                                                                                                                                                        \n",
       "Дата                                                                                                                                                               10   \n",
       "Артикул Наименование                                       ТК                                      АГ                                       Финал Эксп. МП              \n",
       "15639   Лента тепл.регист. для ЭКГ SCHILLER АT-10 210х1... Бумага регистрирующая для мед. приборов Бумага для импортных и отечественных ЭКГ 7.0              3.625000   \n",
       "16335   Гель для ЭКГ УНИАГЕЛЬ 250г/бут.                    Расходные материалы для диагностики     Контактные среды для исследований        2.0              6.000000   \n",
       "29024   Лента тепл.регист. для ЭКГ NIHON KOHDEN 110х140... Бумага регистрирующая для мед. приборов Бумага для импортных и отечественных ЭКГ 6.0             13.750000   \n",
       "46018   Гель для ЭКГ Жидкость электродная контактная с ... Расходные материалы для диагностики     Контактные среды для исследований        2.0              6.258065   \n",
       "61043   Гель для ЭКГ УНИМАКС 250г/бут.                     Расходные материалы для диагностики     Контактные среды для исследований        2.0              4.000000   \n",
       "\n",
       "                                                                                                                                                                   \\\n",
       "                                                                                                                                                           median   \n",
       "Дата                                                                                                                                                           8    \n",
       "Артикул Наименование                                       ТК                                      АГ                                       Финал Эксп. МП          \n",
       "15639   Лента тепл.регист. для ЭКГ SCHILLER АT-10 210х1... Бумага регистрирующая для мед. приборов Бумага для импортных и отечественных ЭКГ 7.0              10.0   \n",
       "16335   Гель для ЭКГ УНИАГЕЛЬ 250г/бут.                    Расходные материалы для диагностики     Контактные среды для исследований        2.0               3.5   \n",
       "29024   Лента тепл.регист. для ЭКГ NIHON KOHDEN 110х140... Бумага регистрирующая для мед. приборов Бумага для импортных и отечественных ЭКГ 6.0              50.0   \n",
       "46018   Гель для ЭКГ Жидкость электродная контактная с ... Расходные материалы для диагностики     Контактные среды для исследований        2.0               3.0   \n",
       "61043   Гель для ЭКГ УНИМАКС 250г/бут.                     Расходные материалы для диагностики     Контактные среды для исследований        2.0               2.0   \n",
       "\n",
       "                                                                                                                                                                  \\\n",
       "                                                                                                                                                                   \n",
       "Дата                                                                                                                                                          9    \n",
       "Артикул Наименование                                       ТК                                      АГ                                       Финал Эксп. МП         \n",
       "15639   Лента тепл.регист. для ЭКГ SCHILLER АT-10 210х1... Бумага регистрирующая для мед. приборов Бумага для импортных и отечественных ЭКГ 7.0              4.0   \n",
       "16335   Гель для ЭКГ УНИАГЕЛЬ 250г/бут.                    Расходные материалы для диагностики     Контактные среды для исследований        2.0              1.5   \n",
       "29024   Лента тепл.регист. для ЭКГ NIHON KOHDEN 110х140... Бумага регистрирующая для мед. приборов Бумага для импортных и отечественных ЭКГ 6.0             12.5   \n",
       "46018   Гель для ЭКГ Жидкость электродная контактная с ... Расходные материалы для диагностики     Контактные среды для исследований        2.0              5.0   \n",
       "61043   Гель для ЭКГ УНИМАКС 250г/бут.                     Расходные материалы для диагностики     Контактные среды для исследований        2.0              1.0   \n",
       "\n",
       "                                                                                                                                                                  \\\n",
       "                                                                                                                                                                   \n",
       "Дата                                                                                                                                                          10   \n",
       "Артикул Наименование                                       ТК                                      АГ                                       Финал Эксп. МП         \n",
       "15639   Лента тепл.регист. для ЭКГ SCHILLER АT-10 210х1... Бумага регистрирующая для мед. приборов Бумага для импортных и отечественных ЭКГ 7.0              2.0   \n",
       "16335   Гель для ЭКГ УНИАГЕЛЬ 250г/бут.                    Расходные материалы для диагностики     Контактные среды для исследований        2.0              3.0   \n",
       "29024   Лента тепл.регист. для ЭКГ NIHON KOHDEN 110х140... Бумага регистрирующая для мед. приборов Бумага для импортных и отечественных ЭКГ 6.0             15.0   \n",
       "46018   Гель для ЭКГ Жидкость электродная контактная с ... Расходные материалы для диагностики     Контактные среды для исследований        2.0              5.0   \n",
       "61043   Гель для ЭКГ УНИМАКС 250г/бут.                     Расходные материалы для диагностики     Контактные среды для исследований        2.0              4.0   \n",
       "\n",
       "                                                                                                                                                                 \\\n",
       "                                                                                                                                                            sum   \n",
       "Дата                                                                                                                                                         8    \n",
       "Артикул Наименование                                       ТК                                      АГ                                       Финал Эксп. МП        \n",
       "15639   Лента тепл.регист. для ЭКГ SCHILLER АT-10 210х1... Бумага регистрирующая для мед. приборов Бумага для импортных и отечественных ЭКГ 7.0              54   \n",
       "16335   Гель для ЭКГ УНИАГЕЛЬ 250г/бут.                    Расходные материалы для диагностики     Контактные среды для исследований        2.0              99   \n",
       "29024   Лента тепл.регист. для ЭКГ NIHON KOHDEN 110х140... Бумага регистрирующая для мед. приборов Бумага для импортных и отечественных ЭКГ 6.0             570   \n",
       "46018   Гель для ЭКГ Жидкость электродная контактная с ... Расходные материалы для диагностики     Контактные среды для исследований        2.0             219   \n",
       "61043   Гель для ЭКГ УНИМАКС 250г/бут.                     Расходные материалы для диагностики     Контактные среды для исследований        2.0              41   \n",
       "\n",
       "                                                                                                                                                                 \\\n",
       "                                                                                                                                                                  \n",
       "Дата                                                                                                                                                         9    \n",
       "Артикул Наименование                                       ТК                                      АГ                                       Финал Эксп. МП        \n",
       "15639   Лента тепл.регист. для ЭКГ SCHILLER АT-10 210х1... Бумага регистрирующая для мед. приборов Бумага для импортных и отечественных ЭКГ 7.0              15   \n",
       "16335   Гель для ЭКГ УНИАГЕЛЬ 250г/бут.                    Расходные материалы для диагностики     Контактные среды для исследований        2.0              23   \n",
       "29024   Лента тепл.регист. для ЭКГ NIHON KOHDEN 110х140... Бумага регистрирующая для мед. приборов Бумага для импортных и отечественных ЭКГ 6.0              81   \n",
       "46018   Гель для ЭКГ Жидкость электродная контактная с ... Расходные материалы для диагностики     Контактные среды для исследований        2.0             189   \n",
       "61043   Гель для ЭКГ УНИМАКС 250г/бут.                     Расходные материалы для диагностики     Контактные среды для исследований        2.0              33   \n",
       "\n",
       "                                                                                                                                                                 \\\n",
       "                                                                                                                                                                  \n",
       "Дата                                                                                                                                                         10   \n",
       "Артикул Наименование                                       ТК                                      АГ                                       Финал Эксп. МП        \n",
       "15639   Лента тепл.регист. для ЭКГ SCHILLER АT-10 210х1... Бумага регистрирующая для мед. приборов Бумага для импортных и отечественных ЭКГ 7.0              29   \n",
       "16335   Гель для ЭКГ УНИАГЕЛЬ 250г/бут.                    Расходные материалы для диагностики     Контактные среды для исследований        2.0              84   \n",
       "29024   Лента тепл.регист. для ЭКГ NIHON KOHDEN 110х140... Бумага регистрирующая для мед. приборов Бумага для импортных и отечественных ЭКГ 6.0              55   \n",
       "46018   Гель для ЭКГ Жидкость электродная контактная с ... Расходные материалы для диагностики     Контактные среды для исследований        2.0             194   \n",
       "61043   Гель для ЭКГ УНИМАКС 250г/бут.                     Расходные материалы для диагностики     Контактные среды для исследований        2.0               4   \n",
       "\n",
       "                                                                                                                                                           Номер_документа  \\\n",
       "                                                                                                                                                                   nunique   \n",
       "Дата                                                                                                                                                                    8    \n",
       "Артикул Наименование                                       ТК                                      АГ                                       Финал Эксп. МП                   \n",
       "15639   Лента тепл.регист. для ЭКГ SCHILLER АT-10 210х1... Бумага регистрирующая для мед. приборов Бумага для импортных и отечественных ЭКГ 7.0                          5   \n",
       "16335   Гель для ЭКГ УНИАГЕЛЬ 250г/бут.                    Расходные материалы для диагностики     Контактные среды для исследований        2.0                         14   \n",
       "29024   Лента тепл.регист. для ЭКГ NIHON KOHDEN 110х140... Бумага регистрирующая для мед. приборов Бумага для импортных и отечественных ЭКГ 6.0                          3   \n",
       "46018   Гель для ЭКГ Жидкость электродная контактная с ... Расходные материалы для диагностики     Контактные среды для исследований        2.0                         41   \n",
       "61043   Гель для ЭКГ УНИМАКС 250г/бут.                     Расходные материалы для диагностики     Контактные среды для исследований        2.0                          5   \n",
       "\n",
       "                                                                                                                                                                \\\n",
       "                                                                                                                                                                 \n",
       "Дата                                                                                                                                                        9    \n",
       "Артикул Наименование                                       ТК                                      АГ                                       Финал Эксп. МП       \n",
       "15639   Лента тепл.регист. для ЭКГ SCHILLER АT-10 210х1... Бумага регистрирующая для мед. приборов Бумага для импортных и отечественных ЭКГ 7.0              3   \n",
       "16335   Гель для ЭКГ УНИАГЕЛЬ 250г/бут.                    Расходные материалы для диагностики     Контактные среды для исследований        2.0             10   \n",
       "29024   Лента тепл.регист. для ЭКГ NIHON KOHDEN 110х140... Бумага регистрирующая для мед. приборов Бумага для импортных и отечественных ЭКГ 6.0              6   \n",
       "46018   Гель для ЭКГ Жидкость электродная контактная с ... Расходные материалы для диагностики     Контактные среды для исследований        2.0             38   \n",
       "61043   Гель для ЭКГ УНИМАКС 250г/бут.                     Расходные материалы для диагностики     Контактные среды для исследований        2.0              9   \n",
       "\n",
       "                                                                                                                                                                \\\n",
       "                                                                                                                                                                 \n",
       "Дата                                                                                                                                                        10   \n",
       "Артикул Наименование                                       ТК                                      АГ                                       Финал Эксп. МП       \n",
       "15639   Лента тепл.регист. для ЭКГ SCHILLER АT-10 210х1... Бумага регистрирующая для мед. приборов Бумага для импортных и отечественных ЭКГ 7.0              8   \n",
       "16335   Гель для ЭКГ УНИАГЕЛЬ 250г/бут.                    Расходные материалы для диагностики     Контактные среды для исследований        2.0             14   \n",
       "29024   Лента тепл.регист. для ЭКГ NIHON KOHDEN 110х140... Бумага регистрирующая для мед. приборов Бумага для импортных и отечественных ЭКГ 6.0              4   \n",
       "46018   Гель для ЭКГ Жидкость электродная контактная с ... Расходные материалы для диагностики     Контактные среды для исследований        2.0             31   \n",
       "61043   Гель для ЭКГ УНИМАКС 250г/бут.                     Расходные материалы для диагностики     Контактные среды для исследований        2.0              1   \n",
       "\n",
       "                                                                                                                                                            ТО, руб.  \\\n",
       "                                                                                                                                                                 sum   \n",
       "Дата                                                                                                                                                              8    \n",
       "Артикул Наименование                                       ТК                                      АГ                                       Финал Эксп. МП             \n",
       "15639   Лента тепл.регист. для ЭКГ SCHILLER АT-10 210х1... Бумага регистрирующая для мед. приборов Бумага для импортных и отечественных ЭКГ 7.0             25506.70   \n",
       "16335   Гель для ЭКГ УНИАГЕЛЬ 250г/бут.                    Расходные материалы для диагностики     Контактные среды для исследований        2.0             10265.95   \n",
       "29024   Лента тепл.регист. для ЭКГ NIHON KOHDEN 110х140... Бумага регистрирующая для мед. приборов Бумага для импортных и отечественных ЭКГ 6.0             80770.50   \n",
       "46018   Гель для ЭКГ Жидкость электродная контактная с ... Расходные материалы для диагностики     Контактные среды для исследований        2.0             23045.53   \n",
       "61043   Гель для ЭКГ УНИМАКС 250г/бут.                     Расходные материалы для диагностики     Контактные среды для исследований        2.0              5162.70   \n",
       "\n",
       "                                                                                                                                                                      \\\n",
       "                                                                                                                                                                       \n",
       "Дата                                                                                                                                                              9    \n",
       "Артикул Наименование                                       ТК                                      АГ                                       Финал Эксп. МП             \n",
       "15639   Лента тепл.регист. для ЭКГ SCHILLER АT-10 210х1... Бумага регистрирующая для мед. приборов Бумага для импортных и отечественных ЭКГ 7.0              7499.52   \n",
       "16335   Гель для ЭКГ УНИАГЕЛЬ 250г/бут.                    Расходные материалы для диагностики     Контактные среды для исследований        2.0              2205.01   \n",
       "29024   Лента тепл.регист. для ЭКГ NIHON KOHDEN 110х140... Бумага регистрирующая для мед. приборов Бумага для импортных и отечественных ЭКГ 6.0             13805.22   \n",
       "46018   Гель для ЭКГ Жидкость электродная контактная с ... Расходные материалы для диагностики     Контактные среды для исследований        2.0             19905.99   \n",
       "61043   Гель для ЭКГ УНИМАКС 250г/бут.                     Расходные материалы для диагностики     Контактные среды для исследований        2.0              4067.33   \n",
       "\n",
       "                                                                                                                                                                      \n",
       "                                                                                                                                                                      \n",
       "Дата                                                                                                                                                              10  \n",
       "Артикул Наименование                                       ТК                                      АГ                                       Финал Эксп. МП            \n",
       "15639   Лента тепл.регист. для ЭКГ SCHILLER АT-10 210х1... Бумага регистрирующая для мед. приборов Бумага для импортных и отечественных ЭКГ 7.0             18788.32  \n",
       "16335   Гель для ЭКГ УНИАГЕЛЬ 250г/бут.                    Расходные материалы для диагностики     Контактные среды для исследований        2.0              8569.58  \n",
       "29024   Лента тепл.регист. для ЭКГ NIHON KOHDEN 110х140... Бумага регистрирующая для мед. приборов Бумага для импортных и отечественных ЭКГ 6.0              9182.91  \n",
       "46018   Гель для ЭКГ Жидкость электродная контактная с ... Расходные материалы для диагностики     Контактные среды для исследований        2.0             20239.76  \n",
       "61043   Гель для ЭКГ УНИМАКС 250г/бут.                     Расходные материалы для диагностики     Контактные среды для исследований        2.0               421.21  "
      ]
     },
     "execution_count": 301,
     "metadata": {},
     "output_type": "execute_result"
    }
   ],
   "source": [
    "pv_mb_23.head()"
   ]
  },
  {
   "cell_type": "code",
   "execution_count": 304,
   "metadata": {},
   "outputs": [],
   "source": [
    "pv_mb_23.to_excel('mb_23.xlsx', index = True)"
   ]
  },
  {
   "attachments": {
    "image-2.png": {
     "image/png": "[encoded data removed]"
    },
    "image.png": {
     "image/png": "[encoded data removed]"
    }
   },
   "cell_type": "markdown",
   "metadata": {},
   "source": [
    "### Отчет Минимальные Партии\n",
    "Описание задачи: 20.10.23 Была прогружена минимальная партия на тестовую выборку артикулов для канала ИМК.\n",
    "Минимальная партия устанавливалась для позиций, на которые расчетные затраты при покупке одной единицы товара   ниже точки безубыточности. \n",
    "Предполагается, что с введением инструмента Минимальной партии логистические затраты на обработку строк мелкоштучного, дешевого  товара снизятся, что положительно скажется на показателе чистой прибыли.\n",
    "\n",
    "Реализация отчета: Данное исследование было реализовано в разрезе управленческого учета, базируясь на  показателях: Товарооборот, Валовая Прибыль, АКБ, Количество заказов, без учета рассчетных показателей затрат на обработку единичных логистических строк. Для анализа взяты данные по продажам по каналу продаж ИМК (ДКРП + СДКМ)\n",
    "\n",
    "Этапы реализации:\n",
    "- К сровнению принимались 2 периода: LFL и 2 месяца, предшествующих исследуемуму. \n",
    "- Сформирована выборка позиций, для которых прогружена минимальная партия. \n",
    "- Для исследуемых периодов рассчитаны показатели ТО, ВД, КТН, АКБ, Приросты по ТО к предыдущему месяцу и LFL\n",
    "\n",
    "Продажи выборка \"Артикулы с МП\" 2022 год. 2-авг, 1-сент, 0-окт\n",
    "<div>\n",
    "<style scoped>\n",
    "    .dataframe tbody tr th:only-of-type {\n",
    "        vertical-align: middle;\n",
    "    }\n",
    "\n",
    "    .dataframe tbody tr th {\n",
    "        vertical-align: top;\n",
    "    }\n",
    "\n",
    "    .dataframe thead th {\n",
    "        text-align: right;\n",
    "    }\n",
    "</style>\n",
    "<table border=\"1\" class=\"dataframe\">\n",
    "  <thead>\n",
    "    <tr style=\"text-align: right;\">\n",
    "      <th></th>\n",
    "      <th>Месяц</th>\n",
    "      <th>ТО_руб</th>\n",
    "      <th>ВД_руб</th>\n",
    "      <th>КТН</th>\n",
    "      <th>АКБ</th>\n",
    "      <th>Прирост ТО к пред. месяцу</th>\n",
    "    </tr>\n",
    "  </thead>\n",
    "  <tbody>\n",
    "    <tr>\n",
    "      <th>0</th>\n",
    "      <td>2</td>\n",
    "      <td>6806072.11</td>\n",
    "      <td>2084486.69</td>\n",
    "      <td>1.441480</td>\n",
    "      <td>3786</td>\n",
    "      <td>NaN</td>\n",
    "    </tr>\n",
    "    <tr>\n",
    "      <th>1</th>\n",
    "      <td>1</td>\n",
    "      <td>7727242.11</td>\n",
    "      <td>2400308.94</td>\n",
    "      <td>1.450599</td>\n",
    "      <td>4203</td>\n",
    "      <td>0.135345</td>\n",
    "    </tr>\n",
    "    <tr>\n",
    "      <th>2</th>\n",
    "      <td>0</td>\n",
    "      <td>8381257.19</td>\n",
    "      <td>2825554.53</td>\n",
    "      <td>1.508586</td>\n",
    "      <td>4145</td>\n",
    "      <td>0.084638</td>\n",
    "    </tr>\n",
    "  </tbody>\n",
    "</table>\n",
    "</div>\n",
    "\n",
    "Продажи выборка \"Артикулы с МП\" 2023 год. 2-авг, 1-сент, 0-окт\n",
    "<div>\n",
    "<style scoped>\n",
    "    .dataframe tbody tr th:only-of-type {\n",
    "        vertical-align: middle;\n",
    "    }\n",
    "\n",
    "    .dataframe tbody tr th {\n",
    "        vertical-align: top;\n",
    "    }\n",
    "\n",
    "    .dataframe thead th {\n",
    "        text-align: right;\n",
    "    }\n",
    "</style>\n",
    "<table border=\"1\" class=\"dataframe\">\n",
    "  <thead>\n",
    "    <tr style=\"text-align: right;\">\n",
    "      <th></th>\n",
    "      <th>Месяц</th>\n",
    "      <th>ТО_руб</th>\n",
    "      <th>ВД_руб</th>\n",
    "      <th>КТН</th>\n",
    "      <th>АКБ</th>\n",
    "      <th>Прирост ТО к пред. месяцу</th>\n",
    "      <th>Прирост LFL</th>\n",
    "    </tr>\n",
    "  </thead>\n",
    "  <tbody>\n",
    "    <tr>\n",
    "      <th>0</th>\n",
    "      <td>2</td>\n",
    "      <td>8339853.33</td>\n",
    "      <td>3004908.99</td>\n",
    "      <td>1.563250</td>\n",
    "      <td>4636</td>\n",
    "      <td>NaN</td>\n",
    "      <td>0.225355</td>\n",
    "    </tr>\n",
    "    <tr>\n",
    "      <th>1</th>\n",
    "      <td>1</td>\n",
    "      <td>9011455.54</td>\n",
    "      <td>3332982.19</td>\n",
    "      <td>1.586950</td>\n",
    "      <td>4767</td>\n",
    "      <td>0.080529</td>\n",
    "      <td>0.166193</td>\n",
    "    </tr>\n",
    "    <tr>\n",
    "      <th>2</th>\n",
    "      <td>0</td>\n",
    "      <td>9509329.64</td>\n",
    "      <td>3455917.22</td>\n",
    "      <td>1.570904</td>\n",
    "      <td>4495</td>\n",
    "      <td>0.055249</td>\n",
    "      <td>0.134595</td>\n",
    "    </tr>\n",
    "  </tbody>\n",
    "</table>\n",
    "</div>\n",
    "\n",
    "- Выборка проанализирована на выбросы по плотности распределения продаж. Для текущего отчета принято решение оставить экстримальные значения, так как они составляют порядка ~ 10% данных. С увеличением времени эксперемента можно вернуться к рассмотрению варианта очистки данных. \n",
    "\n",
    "![image-2.png](attachment:image-2.png)\n",
    "\n",
    "- Рассчитаны статистические показатели для Количества позиций в разрезе месяцев: Мода (наиболее часто встречающееся значение), Среднее, Медиана (показатель центральной тенденции выборки, ранжированной по возрастанию)\n",
    "\n",
    "- Сформирована сводная таблица Excel для поартикульного анализа в разрезе ТК,АГ\n",
    "\n",
    "Выводы: \n",
    "- Динамика роста ТО в выборке \"Артикулы с МП\" сохраняется. Это отчетливо видно на приведенном ниже графике: линии роста ТО практически параллельны\n",
    "\n",
    "![image.png](attachment:image.png)\n",
    "\n",
    "- Так же, как и в прошлом году в октябре наблюдается снижение АКБ. Расценивать снижение, как негативный фактор ввода минимальной партии на данном временном отрезке не можем. Необходимо рассматривать более длительные временные отрезки.\n",
    "- Показательным позитивным фактором является рост в октябре 2023 г статистических показателей Количества шт позиций в заказе: \n",
    "\n",
    "Статистические показатели Количества выборка \"Артикулы с МП\" 2022 г\n",
    "<div>\n",
    "<style scoped>\n",
    "    .dataframe tbody tr th:only-of-type {\n",
    "        vertical-align: middle;\n",
    "    }\n",
    "\n",
    "    .dataframe tbody tr th {\n",
    "        vertical-align: top;\n",
    "    }\n",
    "\n",
    "    .dataframe thead th {\n",
    "        text-align: right;\n",
    "    }\n",
    "</style>\n",
    "<table border=\"1\" class=\"dataframe\">\n",
    "  <thead>\n",
    "    <tr style=\"text-align: right;\">\n",
    "      <th></th>\n",
    "      <th>Месяц</th>\n",
    "      <th>Мода</th>\n",
    "      <th>Среднее</th>\n",
    "      <th>Медиана</th>\n",
    "    </tr>\n",
    "  </thead>\n",
    "  <tbody>\n",
    "    <tr>\n",
    "      <th>0</th>\n",
    "      <td>2</td>\n",
    "      <td>1.0</td>\n",
    "      <td>25.010046</td>\n",
    "      <td>6.0</td>\n",
    "    </tr>\n",
    "    <tr>\n",
    "      <th>1</th>\n",
    "      <td>1</td>\n",
    "      <td>1.0</td>\n",
    "      <td>26.521390</td>\n",
    "      <td>6.0</td>\n",
    "    </tr>\n",
    "    <tr>\n",
    "      <th>2</th>\n",
    "      <td>0</td>\n",
    "      <td>1.0</td>\n",
    "      <td>25.587258</td>\n",
    "      <td>6.0</td>\n",
    "    </tr>\n",
    "  </tbody>\n",
    "</table>\n",
    "</div>\n",
    "\n",
    "Статистические показатели выборка \"Артикулы с МП\" Количества 2023 г\n",
    "\n",
    "<div>\n",
    "<style scoped>\n",
    "    .dataframe tbody tr th:only-of-type {\n",
    "        vertical-align: middle;\n",
    "    }\n",
    "\n",
    "    .dataframe tbody tr th {\n",
    "        vertical-align: top;\n",
    "    }\n",
    "\n",
    "    .dataframe thead th {\n",
    "        text-align: right;\n",
    "    }\n",
    "</style>\n",
    "<table border=\"1\" class=\"dataframe\">\n",
    "  <thead>\n",
    "    <tr style=\"text-align: right;\">\n",
    "      <th></th>\n",
    "      <th>Месяц</th>\n",
    "      <th>Мода</th>\n",
    "      <th>Среднее</th>\n",
    "      <th>Медиана</th>\n",
    "    </tr>\n",
    "  </thead>\n",
    "  <tbody>\n",
    "    <tr>\n",
    "      <th>0</th>\n",
    "      <td>2</td>\n",
    "      <td>1.0</td>\n",
    "      <td>25.028632</td>\n",
    "      <td>5.0</td>\n",
    "    </tr>\n",
    "    <tr>\n",
    "      <th>1</th>\n",
    "      <td>1</td>\n",
    "      <td>1.0</td>\n",
    "      <td>24.968708</td>\n",
    "      <td>5.0</td>\n",
    "    </tr>\n",
    "    <tr>\n",
    "      <th>2</th>\n",
    "      <td>0</td>\n",
    "      <td>10.0</td>\n",
    "      <td>26.890527</td>\n",
    "      <td>8.0</td>\n",
    "    </tr>\n",
    "  </tbody>\n",
    "</table>\n",
    "</div>\n",
    "\n",
    "Рост показателей Моды, Среднего и Медианы, стремление значения Медианы к Моде, сохранение динамики роста ТО, явно указывает на то, что МП работает. \n",
    "Очивидно, что на отрезке 10 дней выводы делать рано, необходимо анализировать проект на более длительных временных отрезках. \n",
    "\n",
    "Также необходимо доказать нулевую гипотезу: \" С вводом Минимальной партии Товарооборот не снижается, отток клиентов не происходит\"\n",
    "\n",
    "Доказательство либо опровержение нулевой гипотезы станет возможным при исследовании данных в разрезе трех месяцев эксперимента. \n",
    "\n",
    "Также необходими оценка изменения Логистических Затрат и анализ Чистой прибыли\n"
   ]
  }
 ],
 "metadata": {
  "kernelspec": {
   "display_name": "base",
   "language": "python",
   "name": "python3"
  },
  "language_info": {
   "codemirror_mode": {
    "name": "ipython",
    "version": 3
   },
   "file_extension": ".py",
   "mimetype": "text/x-python",
   "name": "python",
   "nbconvert_exporter": "python",
   "pygments_lexer": "ipython3",
   "version": "3.9.13"
  }
 },
 "nbformat": 4,
 "nbformat_minor": 2
}
